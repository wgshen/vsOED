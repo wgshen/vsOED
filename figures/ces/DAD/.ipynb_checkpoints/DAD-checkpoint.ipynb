{
 "cells": [
  {
   "cell_type": "code",
   "execution_count": 1,
   "id": "bc692488-4082-485e-b16e-c13b3f1d0d76",
   "metadata": {},
   "outputs": [],
   "source": [
    "import numpy as np"
   ]
  },
  {
   "cell_type": "code",
   "execution_count": 2,
   "id": "4d8420cd-571c-442f-bf31-3e801b15b74d",
   "metadata": {},
   "outputs": [],
   "source": [
    "# read in dad full results\n",
    "full_means = None\n",
    "full_ses = None\n",
    "with open('full.txt') as f:\n",
    "    for i in range(4):\n",
    "        mean = f.readline()\n",
    "        se = f.readline()\n",
    "        if len(mean) == 0:\n",
    "            break\n",
    "        mean = mean.split(' ')\n",
    "        mean = [float(s) for s in mean]\n",
    "        print(mean)\n",
    "        if len(se) == 0:\n",
    "            break\n",
    "        se = se.split(' ')\n",
    "        se = [float(s) for s in se]\n",
    "        print(se)\n",
    "        full_means = np.array(mean).reshape(-1, 1) if full_means is None else np.c_[full_means, mean]\n",
    "        full_ses = np.array(se).reshape(-1, 1) if full_ses is None else np.c_[full_ses, se]"
   ]
  },
  {
   "cell_type": "code",
   "execution_count": 5,
   "id": "411141f1-41c3-48a8-ba13-0af70eef0d8c",
   "metadata": {},
   "outputs": [
    {
     "name": "stdout",
     "output_type": "stream",
     "text": [
      "[3.981104, 4.705699, 7.899898, 9.125429, 8.223568, 9.236316, 8.075202, 8.770193, 10.780132, 8.46045]\n",
      "[0.040602, 0.066509, 0.074065, 0.075611, 0.067288, 0.104077, 0.093675, 0.088585, 0.075618, 0.093272]\n",
      "[3.59306, 7.008898, 8.707067, 9.012746, 8.919018, 8.415605, 11.197683, 8.034183, 8.095398, 11.730927]\n",
      "[0.052684, 0.067075, 0.073753, 0.079786, 0.071374, 0.0821, 0.056487, 0.102674, 0.082899, 0.052532]\n",
      "[3.181182, 6.995007, 7.92831, 8.707919, 8.385958, 10.11096, 9.42197, 8.715479, 8.095398, 9.073713]\n",
      "[0.056359, 0.066332, 0.07076, 0.078093, 0.079524, 0.087832, 0.062441, 0.084078, 0.082899, 0.102003]\n",
      "[3.184269, 5.876545, 8.826249, 9.338867, 7.250401, 9.580567, 10.271194, 9.488046, 10.411173, 11.19199]\n",
      "[0.054036, 0.079389, 0.061323, 0.06425, 0.084369, 0.073977, 0.071948, 0.082575, 0.071862, 0.054546]\n"
     ]
    }
   ],
   "source": [
    "# read in dad limited results\n",
    "limited_means = None\n",
    "limited_ses = None\n",
    "with open('limited.txt') as f:\n",
    "    for i in range(4):\n",
    "        mean = f.readline()\n",
    "        se = f.readline()\n",
    "        if len(mean) == 0:\n",
    "            break\n",
    "        mean = mean.split(' ')\n",
    "        mean = [float(s) for s in mean]\n",
    "        print(mean)\n",
    "        if len(se) == 0:\n",
    "            break\n",
    "        se = se.split(' ')\n",
    "        se = [float(s) for s in se]\n",
    "        print(se)\n",
    "        limited_means = np.array(mean).reshape(-1, 1) if limited_means is None else np.c_[limited_means, mean]\n",
    "        limited_ses = np.array(se).reshape(-1, 1) if limited_ses is None else np.c_[limited_ses, se]"
   ]
  },
  {
   "cell_type": "code",
   "execution_count": 7,
   "id": "e1ed7e18-d3f8-4683-81d3-44ec29d105ff",
   "metadata": {},
   "outputs": [],
   "source": [
    "# full_mean = full_means.mean(axis=1)\n",
    "limited_mean = limited_means.mean(axis=1)\n",
    "\n",
    "# full_sds = full_ses * np.sqrt(2000)\n",
    "limited_sds = limited_ses * np.sqrt(2000)\n",
    "# full_inner_vars = full_sds ** 2\n",
    "limited_inner_vars = limited_sds ** 2\n",
    "# full_outer_vars = (full_mean.reshape(-1, 1) - full_means) ** 2\n",
    "limited_outer_vars = (limited_mean.reshape(-1, 1) - limited_means) ** 2\n",
    "# full_total_var = (full_inner_vars + full_outer_vars).mean(axis=-1)\n",
    "limited_total_var = (limited_inner_vars + limited_outer_vars).mean(axis=-1)\n",
    "\n",
    "# full_se = np.sqrt(full_total_var / 2000 / full_means.shape[1])\n",
    "limited_se = np.sqrt(limited_total_var / 2000 / limited_means.shape[1])"
   ]
  },
  {
   "cell_type": "code",
   "execution_count": 8,
   "id": "e839b620-ce8b-4aeb-b58f-6f1dc1d0d7ee",
   "metadata": {},
   "outputs": [],
   "source": [
    "full_mean = None\n",
    "full_se = None"
   ]
  },
  {
   "cell_type": "code",
   "execution_count": 9,
   "id": "86e05254-05e5-47a0-94c0-357a2846fa7f",
   "metadata": {},
   "outputs": [],
   "source": [
    "dad = {}\n",
    "dad['full'] = {'mean':full_mean, 'se':full_se}\n",
    "dad['limited'] = {'mean':limited_mean, 'se':limited_se}"
   ]
  },
  {
   "cell_type": "code",
   "execution_count": 10,
   "id": "0e31d63e-9cfe-43e2-a883-a1da5ec216e7",
   "metadata": {},
   "outputs": [],
   "source": [
    "np.save('./dad.npy', dad)"
   ]
  },
  {
   "cell_type": "code",
   "execution_count": null,
   "id": "7181f279-ae07-4dde-9859-b295547fd2dc",
   "metadata": {},
   "outputs": [],
   "source": []
  }
 ],
 "metadata": {
  "kernelspec": {
   "display_name": "Python 3 (ipykernel)",
   "language": "python",
   "name": "python3"
  },
  "language_info": {
   "codemirror_mode": {
    "name": "ipython",
    "version": 3
   },
   "file_extension": ".py",
   "mimetype": "text/x-python",
   "name": "python",
   "nbconvert_exporter": "python",
   "pygments_lexer": "ipython3",
   "version": "3.9.7"
  }
 },
 "nbformat": 4,
 "nbformat_minor": 5
}
