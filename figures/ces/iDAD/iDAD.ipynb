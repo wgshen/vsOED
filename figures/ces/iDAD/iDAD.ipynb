{
 "cells": [
  {
   "cell_type": "code",
   "execution_count": 1,
   "id": "bc692488-4082-485e-b16e-c13b3f1d0d76",
   "metadata": {},
   "outputs": [],
   "source": [
    "import numpy as np"
   ]
  },
  {
   "cell_type": "code",
   "execution_count": 2,
   "id": "4d8420cd-571c-442f-bf31-3e801b15b74d",
   "metadata": {},
   "outputs": [],
   "source": [
    "# read in idad full results\n",
    "full_means = None\n",
    "full_ses = None\n",
    "with open('full.txt') as f:\n",
    "    for i in range(4):\n",
    "        mean = f.readline()\n",
    "        se = f.readline()\n",
    "        if len(mean) == 0:\n",
    "            break\n",
    "        mean = mean.split(' ')\n",
    "        mean = [float(s) for s in mean]\n",
    "        print(mean)\n",
    "        if len(se) == 0:\n",
    "            break\n",
    "        se = se.split(' ')\n",
    "        se = [float(s) for s in se]\n",
    "        print(se)\n",
    "        full_means = np.array(mean).reshape(-1, 1) if full_means is None else np.c_[full_means, mean]\n",
    "        full_ses = np.array(se).reshape(-1, 1) if full_ses is None else np.c_[full_ses, se]"
   ]
  },
  {
   "cell_type": "code",
   "execution_count": 3,
   "id": "411141f1-41c3-48a8-ba13-0af70eef0d8c",
   "metadata": {},
   "outputs": [
    {
     "name": "stdout",
     "output_type": "stream",
     "text": [
      "[2.912824, 5.602127, 7.465345, 7.712254, 8.955906, 8.684981, 9.187956, 8.860555, 9.206436, 8.275771]\n",
      "[0.021445, 0.027563, 0.038054, 0.062305, 0.045583, 0.061383, 0.058468, 0.058811, 0.059401, 0.052077]\n",
      "[3.614331, 5.91469, 8.194161, 8.993977, 9.286595, 9.920381, 9.047441, 9.798434, 9.017002, 10.444557]\n",
      "[0.019919, 0.028843, 0.036499, 0.050718, 0.056204, 0.051157, 0.055667, 0.04912, 0.063327, 0.056359]\n",
      "[3.478245, 6.563136, 8.076436, 8.182381, 9.172492, 9.02692, 8.569602, 10.246257, 8.34293, 9.57528]\n",
      "[0.016047, 0.030856, 0.046568, 0.054519, 0.061058, 0.064929, 0.06011, 0.049359, 0.057149, 0.054552]\n",
      "[3.409858, 5.477536, 7.740181, 8.133913, 8.121044, 8.207628, 9.42663, 7.95825, 9.163589, 9.678998]\n",
      "[0.020685, 0.032375, 0.048521, 0.046431, 0.052002, 0.052507, 0.053019, 0.057152, 0.058738, 0.061296]\n"
     ]
    }
   ],
   "source": [
    "# read in idad limited results\n",
    "limited_means = None\n",
    "limited_ses = None\n",
    "with open('limited.txt') as f:\n",
    "    for i in range(4):\n",
    "        mean = f.readline()\n",
    "        se = f.readline()\n",
    "        if len(mean) == 0:\n",
    "            break\n",
    "        mean = mean.split(' ')\n",
    "        mean = [float(s) for s in mean]\n",
    "        print(mean)\n",
    "        if len(se) == 0:\n",
    "            break\n",
    "        se = se.split(' ')\n",
    "        se = [float(s) for s in se]\n",
    "        print(se)\n",
    "        limited_means = np.array(mean).reshape(-1, 1) if limited_means is None else np.c_[limited_means, mean]\n",
    "        limited_ses = np.array(se).reshape(-1, 1) if limited_ses is None else np.c_[limited_ses, se]"
   ]
  },
  {
   "cell_type": "code",
   "execution_count": 4,
   "id": "e1ed7e18-d3f8-4683-81d3-44ec29d105ff",
   "metadata": {},
   "outputs": [],
   "source": [
    "# full_mean = full_means.mean(axis=1)\n",
    "limited_mean = limited_means.mean(axis=1)\n",
    "\n",
    "# full_sds = full_ses * np.sqrt(2000)\n",
    "limited_sds = limited_ses * np.sqrt(2000)\n",
    "# full_inner_vars = full_sds ** 2\n",
    "limited_inner_vars = limited_sds ** 2\n",
    "# full_outer_vars = (full_mean.reshape(-1, 1) - full_means) ** 2\n",
    "limited_outer_vars = (limited_mean.reshape(-1, 1) - limited_means) ** 2\n",
    "# full_total_var = (full_inner_vars + full_outer_vars).mean(axis=-1)\n",
    "limited_total_var = (limited_inner_vars + limited_outer_vars).mean(axis=-1)\n",
    "\n",
    "# full_se = np.sqrt(full_total_var / 2000 / full_means.shape[1])\n",
    "limited_se = np.sqrt(limited_total_var / 2000 / limited_means.shape[1])"
   ]
  },
  {
   "cell_type": "code",
   "execution_count": 5,
   "id": "0436f88a-fe33-4891-9366-4e35f89754a8",
   "metadata": {},
   "outputs": [],
   "source": [
    "full_mean = None\n",
    "full_se = None"
   ]
  },
  {
   "cell_type": "code",
   "execution_count": 6,
   "id": "86e05254-05e5-47a0-94c0-357a2846fa7f",
   "metadata": {},
   "outputs": [],
   "source": [
    "idad = {}\n",
    "idad['full'] = {'mean':full_mean, 'se':full_se}\n",
    "idad['limited'] = {'mean':limited_mean, 'se':limited_se}"
   ]
  },
  {
   "cell_type": "code",
   "execution_count": 7,
   "id": "0e31d63e-9cfe-43e2-a883-a1da5ec216e7",
   "metadata": {},
   "outputs": [],
   "source": [
    "np.save('./idad.npy', idad)"
   ]
  },
  {
   "cell_type": "code",
   "execution_count": null,
   "id": "48eebd22-475b-4411-8f2d-5cb132ffb2ed",
   "metadata": {},
   "outputs": [],
   "source": []
  }
 ],
 "metadata": {
  "kernelspec": {
   "display_name": "Python 3 (ipykernel)",
   "language": "python",
   "name": "python3"
  },
  "language_info": {
   "codemirror_mode": {
    "name": "ipython",
    "version": 3
   },
   "file_extension": ".py",
   "mimetype": "text/x-python",
   "name": "python",
   "nbconvert_exporter": "python",
   "pygments_lexer": "ipython3",
   "version": "3.9.7"
  }
 },
 "nbformat": 4,
 "nbformat_minor": 5
}
