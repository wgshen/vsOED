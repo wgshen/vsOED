{
 "cells": [
  {
   "cell_type": "code",
   "execution_count": 1,
   "id": "bc692488-4082-485e-b16e-c13b3f1d0d76",
   "metadata": {},
   "outputs": [],
   "source": [
    "import numpy as np"
   ]
  },
  {
   "cell_type": "code",
   "execution_count": 5,
   "id": "4d8420cd-571c-442f-bf31-3e801b15b74d",
   "metadata": {},
   "outputs": [],
   "source": [
    "# read in rl-boed results\n",
    "subfolders = {'rl': './'}\n",
    "rl_rwds = {}\n",
    "rl_full_rwds = {}\n",
    "rl_full_rwds['terminal'] = np.load(subfolders['rl'] + '/ces_full_terminal_res.npy')\n",
    "rl_full_rwds['terminal'] = np.moveaxis(rl_full_rwds['terminal'], -1, 0)\n",
    "rl_full_rwds['incre'] = np.load(subfolders['rl'] + '/ces_full_incre_res.npy')\n",
    "rl_full_rwds['incre'] = np.moveaxis(rl_full_rwds['incre'], -1, 0)\n",
    "rl_rwds['terminal'] = np.load(subfolders['rl'] + '/ces_terminal_res.npy')\n",
    "rl_rwds['terminal'] = np.moveaxis(rl_rwds['terminal'], -1, 0)\n",
    "rl_rwds['incre'] = np.load(subfolders['rl'] + '/ces_incre_res.npy')\n",
    "rl_rwds['incre'] = np.moveaxis(rl_rwds['incre'], -1, 0)"
   ]
  },
  {
   "cell_type": "code",
   "execution_count": 7,
   "id": "6ceadc24-003d-451a-85bc-69c0e1f1c20f",
   "metadata": {},
   "outputs": [],
   "source": [
    "rl_full = {}\n",
    "rl_full = {}\n",
    "rl = {}\n",
    "rl = {}\n",
    "\n",
    "for mode in ('terminal', 'incre'):\n",
    "    rl_full[mode] = {}\n",
    "    rl[mode] = {}\n",
    "    rwds = rl_full_rwds[mode].reshape(-1, 10)\n",
    "    rwds_mean = rwds.mean(axis=0)\n",
    "    rwds_sd = rwds.std(axis=0)\n",
    "    rwds_se = rwds_sd / np.sqrt(len(rwds))\n",
    "    rl_full[mode]['mean'] = rwds_mean\n",
    "    rl_full[mode]['se'] = rwds_se\n",
    "    \n",
    "    rwds = rl_rwds[mode].reshape(-1, 10)\n",
    "    rwds_mean = rwds.mean(axis=0)\n",
    "    rwds_sd = rwds.std(axis=0)\n",
    "    rwds_se = rwds_sd / np.sqrt(len(rwds))\n",
    "    rl[mode]['mean'] = rwds_mean\n",
    "    rl[mode]['se'] = rwds_se"
   ]
  },
  {
   "cell_type": "code",
   "execution_count": 9,
   "id": "313d67e2-6dda-4880-9a72-6435eb5eee43",
   "metadata": {},
   "outputs": [],
   "source": [
    "np.save('./rl_boed.npy', {'full':rl_full, 'limited':rl})"
   ]
  },
  {
   "cell_type": "code",
   "execution_count": null,
   "id": "2e665247-28de-42c5-9ae7-2df8c96ad196",
   "metadata": {},
   "outputs": [],
   "source": []
  }
 ],
 "metadata": {
  "kernelspec": {
   "display_name": "Python 3 (ipykernel)",
   "language": "python",
   "name": "python3"
  },
  "language_info": {
   "codemirror_mode": {
    "name": "ipython",
    "version": 3
   },
   "file_extension": ".py",
   "mimetype": "text/x-python",
   "name": "python",
   "nbconvert_exporter": "python",
   "pygments_lexer": "ipython3",
   "version": "3.9.7"
  }
 },
 "nbformat": 4,
 "nbformat_minor": 5
}
