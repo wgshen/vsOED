{
 "cells": [
  {
   "cell_type": "code",
   "execution_count": 1,
   "id": "bc692488-4082-485e-b16e-c13b3f1d0d76",
   "metadata": {},
   "outputs": [],
   "source": [
    "import numpy as np"
   ]
  },
  {
   "cell_type": "code",
   "execution_count": 2,
   "id": "4d8420cd-571c-442f-bf31-3e801b15b74d",
   "metadata": {},
   "outputs": [
    {
     "name": "stdout",
     "output_type": "stream",
     "text": [
      "[0.817057, 0.879517, 1.511997, 1.910247, 2.243209, 2.480207, 2.677612, 2.864986, 2.986183, 3.264411, 3.523426, 3.890731, 4.274924, 4.526557, 4.849145, 5.179895, 5.561386, 5.84339, 6.136731, 6.462263, 6.719117, 7.060224, 7.29006, 7.499239, 7.730378, 7.898861, 8.080379, 8.212934, 8.395, 8.505738]\n",
      "[0.015271, 0.015247, 0.019704, 0.021212, 0.023533, 0.025035, 0.02662, 0.027171, 0.028294, 0.028829, 0.029803, 0.030081, 0.031759, 0.033677, 0.033914, 0.033921, 0.034937, 0.03426, 0.035311, 0.036458, 0.035795, 0.035126, 0.035173, 0.03603, 0.035722, 0.036923, 0.0361, 0.035423, 0.03587, 0.035148]\n"
     ]
    }
   ],
   "source": [
    "# read in idad full results\n",
    "full_means = None\n",
    "full_ses = None\n",
    "with open('full.txt') as f:\n",
    "    for i in range(4):\n",
    "        mean = f.readline()\n",
    "        se = f.readline()\n",
    "        if len(mean) == 0:\n",
    "            break\n",
    "        mean = mean.split(' ')\n",
    "        mean = [float(s) for s in mean]\n",
    "        print(mean)\n",
    "        if len(se) == 0:\n",
    "            break\n",
    "        se = se.split(' ')\n",
    "        se = [float(s) for s in se]\n",
    "        print(se)\n",
    "        full_means = np.array(mean).reshape(-1, 1) if full_means is None else np.c_[full_means, mean]\n",
    "        full_ses = np.array(se).reshape(-1, 1) if full_ses is None else np.c_[full_ses, se]"
   ]
  },
  {
   "cell_type": "code",
   "execution_count": 3,
   "id": "411141f1-41c3-48a8-ba13-0af70eef0d8c",
   "metadata": {},
   "outputs": [
    {
     "name": "stdout",
     "output_type": "stream",
     "text": [
      "[0.786005, 2.451082, 4.431377, 6.305079, 7.635369, 8.531171, 8.91448, 8.968733, 9.044917, 8.45751, 10.524696]\n",
      "[0.021195, 0.032709, 0.046162, 0.050126, 0.051841, 0.051497, 0.04669, 0.050528, 0.050128, 0.050077, 0.043437]\n",
      "[0.826387, 2.376966, 4.498225, 6.360245, 7.619491, 8.356799, 8.732603, 9.286321, 9.707652, 10.098535, 8.937923]\n",
      "[0.021381, 0.034805, 0.042173, 0.050862, 0.051453, 0.051593, 0.048768, 0.049637, 0.047044, 0.0472, 0.052469]\n",
      "[0.828124, 2.496099, 4.500208, 6.388049, 7.529085, 8.182636, 8.766738, 9.154674, 9.861941, 9.118618, 9.948652]\n",
      "[0.021464, 0.032521, 0.043082, 0.053813, 0.053594, 0.051777, 0.051593, 0.049236, 0.045476, 0.050724, 0.04634]\n",
      "[0.787791, 2.375086, 4.471139, 6.361251, 7.773258, 8.248629, 8.079393, 9.286215, 7.168965, 7.561365, 9.426151]\n",
      "[0.02132, 0.03409, 0.044234, 0.051162, 0.050627, 0.051947, 0.051676, 0.047023, 0.057175, 0.053427, 0.049333]\n"
     ]
    }
   ],
   "source": [
    "# read in idad limited results\n",
    "limited_means = None\n",
    "limited_ses = None\n",
    "with open('limited.txt') as f:\n",
    "    for i in range(4):\n",
    "        mean = f.readline()\n",
    "        se = f.readline()\n",
    "        if len(mean) == 0:\n",
    "            break\n",
    "        mean = mean.split(' ')\n",
    "        mean = [float(s) for s in mean]\n",
    "        print(mean)\n",
    "        if len(se) == 0:\n",
    "            break\n",
    "        se = se.split(' ')\n",
    "        se = [float(s) for s in se]\n",
    "        print(se)\n",
    "        limited_means = np.array(mean).reshape(-1, 1) if limited_means is None else np.c_[limited_means, mean]\n",
    "        limited_ses = np.array(se).reshape(-1, 1) if limited_ses is None else np.c_[limited_ses, se]"
   ]
  },
  {
   "cell_type": "code",
   "execution_count": 5,
   "id": "e1ed7e18-d3f8-4683-81d3-44ec29d105ff",
   "metadata": {},
   "outputs": [],
   "source": [
    "full_mean = full_means.mean(axis=1)\n",
    "limited_mean = limited_means.mean(axis=1)\n",
    "\n",
    "full_sds = full_ses * np.sqrt(2000)\n",
    "limited_sds = limited_ses * np.sqrt(2000)\n",
    "full_inner_vars = full_sds ** 2\n",
    "limited_inner_vars = limited_sds ** 2\n",
    "full_outer_vars = (full_mean.reshape(-1, 1) - full_means) ** 2\n",
    "limited_outer_vars = (limited_mean.reshape(-1, 1) - limited_means) ** 2\n",
    "full_total_var = (full_inner_vars + full_outer_vars).mean(axis=-1)\n",
    "limited_total_var = (limited_inner_vars + limited_outer_vars).mean(axis=-1)\n",
    "\n",
    "full_se = np.sqrt(full_total_var / 2000 / full_means.shape[1])\n",
    "limited_se = np.sqrt(limited_total_var / 2000 / limited_means.shape[1])"
   ]
  },
  {
   "cell_type": "code",
   "execution_count": 9,
   "id": "86e05254-05e5-47a0-94c0-357a2846fa7f",
   "metadata": {},
   "outputs": [],
   "source": [
    "idad = {}\n",
    "idad['full'] = {'mean':full_mean, 'se':full_se}\n",
    "idad['limited'] = {'mean':limited_mean, 'se':limited_se}"
   ]
  },
  {
   "cell_type": "code",
   "execution_count": 11,
   "id": "0e31d63e-9cfe-43e2-a883-a1da5ec216e7",
   "metadata": {},
   "outputs": [],
   "source": [
    "np.save('./idad.npy', idad)"
   ]
  },
  {
   "cell_type": "code",
   "execution_count": null,
   "id": "48eebd22-475b-4411-8f2d-5cb132ffb2ed",
   "metadata": {},
   "outputs": [],
   "source": []
  }
 ],
 "metadata": {
  "kernelspec": {
   "display_name": "Python 3 (ipykernel)",
   "language": "python",
   "name": "python3"
  },
  "language_info": {
   "codemirror_mode": {
    "name": "ipython",
    "version": 3
   },
   "file_extension": ".py",
   "mimetype": "text/x-python",
   "name": "python",
   "nbconvert_exporter": "python",
   "pygments_lexer": "ipython3",
   "version": "3.9.7"
  }
 },
 "nbformat": 4,
 "nbformat_minor": 5
}
