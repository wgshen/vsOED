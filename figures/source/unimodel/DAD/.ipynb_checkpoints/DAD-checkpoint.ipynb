{
 "cells": [
  {
   "cell_type": "code",
   "execution_count": 12,
   "id": "bc692488-4082-485e-b16e-c13b3f1d0d76",
   "metadata": {},
   "outputs": [],
   "source": [
    "import numpy as np"
   ]
  },
  {
   "cell_type": "code",
   "execution_count": 41,
   "id": "4d8420cd-571c-442f-bf31-3e801b15b74d",
   "metadata": {},
   "outputs": [
    {
     "name": "stdout",
     "output_type": "stream",
     "text": [
      "[0.816329, 1.228585, 1.81383, 2.389822, 2.981667, 3.572428, 4.209217, 4.710265, 5.269924, 5.612327, 6.140262, 6.669539, 7.014919, 7.313301, 7.722271, 7.942804, 8.3407, 8.643421, 8.909256, 9.136792, 9.47459, 9.637758, 9.979082, 10.133278, 10.374744, 10.527617, 10.702873, 10.864203, 11.057957, 11.221596]\n",
      "[0.020173, 0.028871, 0.031553, 0.036346, 0.035298, 0.039382, 0.041357, 0.04357, 0.044218, 0.043263, 0.045057, 0.049799, 0.048281, 0.050127, 0.048187, 0.051392, 0.051242, 0.05146, 0.05191, 0.054467, 0.053291, 0.050014, 0.049244, 0.04938, 0.048029, 0.0507, 0.047177, 0.045174, 0.044228, 0.046489]\n"
     ]
    }
   ],
   "source": [
    "# read in dad full results\n",
    "full_means = None\n",
    "full_ses = None\n",
    "with open('full.txt') as f:\n",
    "    for i in range(4):\n",
    "        mean = f.readline()\n",
    "        se = f.readline()\n",
    "        if len(mean) == 0:\n",
    "            break\n",
    "        mean = mean.split(' ')\n",
    "        mean = [float(s) for s in mean]\n",
    "        print(mean)\n",
    "        if len(se) == 0:\n",
    "            break\n",
    "        se = se.split(' ')\n",
    "        se = [float(s) for s in se]\n",
    "        print(se)\n",
    "        full_means = np.array(mean).reshape(-1, 1) if full_means is None else np.c_[full_means, mean]\n",
    "        full_ses = np.array(se).reshape(-1, 1) if full_ses is None else np.c_[full_ses, se]"
   ]
  },
  {
   "cell_type": "code",
   "execution_count": 42,
   "id": "411141f1-41c3-48a8-ba13-0af70eef0d8c",
   "metadata": {},
   "outputs": [
    {
     "name": "stdout",
     "output_type": "stream",
     "text": [
      "[0.828299, 2.486732, 4.343925, 5.597539, 6.818291, 7.546469, 7.183966, 7.771787, 8.435817, 8.787461, 8.7284]\n",
      "[0.021654, 0.032565, 0.04198, 0.046194, 0.050326, 0.04927, 0.050614, 0.047488, 0.045565, 0.046103, 0.051051]\n",
      "[0.829278, 2.513857, 4.325128, 5.71361, 6.589913, 7.170227, 7.999127, 8.375924, 8.75326, 8.129022, 8.76903]\n",
      "[0.021549, 0.034492, 0.041728, 0.046102, 0.04799, 0.046593, 0.045645, 0.04469, 0.045394, 0.048842, 0.050517]\n",
      "[0.826291, 2.587818, 4.436891, 5.836962, 6.687996, 7.389627, 7.558817, 7.571594, 8.833861, 9.327184, 9.275849]\n",
      "[0.021935, 0.034741, 0.042774, 0.046629, 0.047113, 0.048846, 0.045047, 0.045393, 0.043698, 0.044806, 0.044739]\n",
      "[0.828967, 2.380991, 4.38151, 5.830864, 6.444864, 0.045701, 7.803885, 8.539437, 8.327949, 8.42441, 9.164903]\n",
      "[0.021242, 0.032723, 0.04249, 0.045124, 0.045701, 0.048952, 0.047438, 0.045564, 0.048095, 0.044902, 0.045131]\n"
     ]
    }
   ],
   "source": [
    "# read in dad limited results\n",
    "limited_means = None\n",
    "limited_ses = None\n",
    "with open('limited.txt') as f:\n",
    "    for i in range(4):\n",
    "        mean = f.readline()\n",
    "        se = f.readline()\n",
    "        if len(mean) == 0:\n",
    "            break\n",
    "        mean = mean.split(' ')\n",
    "        mean = [float(s) for s in mean]\n",
    "        print(mean)\n",
    "        if len(se) == 0:\n",
    "            break\n",
    "        se = se.split(' ')\n",
    "        se = [float(s) for s in se]\n",
    "        print(se)\n",
    "        limited_means = np.array(mean).reshape(-1, 1) if limited_means is None else np.c_[limited_means, mean]\n",
    "        limited_ses = np.array(se).reshape(-1, 1) if limited_ses is None else np.c_[limited_ses, se]"
   ]
  },
  {
   "cell_type": "code",
   "execution_count": 57,
   "id": "8a5d1519-e523-43f8-b264-5016a27f7a4e",
   "metadata": {},
   "outputs": [],
   "source": [
    "# delete diverged results\n",
    "limited_means[5, -1] = np.mean(limited_means[5, :-1])"
   ]
  },
  {
   "cell_type": "code",
   "execution_count": 149,
   "id": "e1ed7e18-d3f8-4683-81d3-44ec29d105ff",
   "metadata": {},
   "outputs": [],
   "source": [
    "full_mean = full_means.mean(axis=1)\n",
    "limited_mean = limited_means.mean(axis=1)\n",
    "\n",
    "full_sds = full_ses * np.sqrt(2000)\n",
    "limited_sds = limited_ses * np.sqrt(2000)\n",
    "full_inner_vars = full_sds ** 2\n",
    "limited_inner_vars = limited_sds ** 2\n",
    "full_outer_vars = (full_mean.reshape(-1, 1) - full_means) ** 2\n",
    "limited_outer_vars = (limited_mean.reshape(-1, 1) - limited_means) ** 2\n",
    "full_total_var = (full_inner_vars + full_outer_vars).mean(axis=-1)\n",
    "limited_total_var = (limited_inner_vars + limited_outer_vars).mean(axis=-1)\n",
    "\n",
    "full_se = np.sqrt(full_total_var / 2000 / full_means.shape[1])\n",
    "limited_se = np.sqrt(limited_total_var / 2000 / limited_means.shape[1])"
   ]
  },
  {
   "cell_type": "code",
   "execution_count": 171,
   "id": "86e05254-05e5-47a0-94c0-357a2846fa7f",
   "metadata": {},
   "outputs": [],
   "source": [
    "dad = {}\n",
    "dad['full'] = {'mean':full_mean, 'se':full_se}\n",
    "dad['limited'] = {'mean':limited_mean, 'se':limited_se}"
   ]
  },
  {
   "cell_type": "code",
   "execution_count": 173,
   "id": "0e31d63e-9cfe-43e2-a883-a1da5ec216e7",
   "metadata": {},
   "outputs": [],
   "source": [
    "np.save('./dad.npy', dad)"
   ]
  }
 ],
 "metadata": {
  "kernelspec": {
   "display_name": "Python 3 (ipykernel)",
   "language": "python",
   "name": "python3"
  },
  "language_info": {
   "codemirror_mode": {
    "name": "ipython",
    "version": 3
   },
   "file_extension": ".py",
   "mimetype": "text/x-python",
   "name": "python",
   "nbconvert_exporter": "python",
   "pygments_lexer": "ipython3",
   "version": "3.9.7"
  }
 },
 "nbformat": 4,
 "nbformat_minor": 5
}
