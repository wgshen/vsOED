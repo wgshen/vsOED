{
 "cells": [
  {
   "cell_type": "code",
   "execution_count": 2,
   "id": "d93bd65a-05d5-4092-bbc9-41717665189a",
   "metadata": {},
   "outputs": [
    {
     "name": "stdout",
     "output_type": "stream",
     "text": [
      "The autoreload extension is already loaded. To reload it, use:\n",
      "  %reload_ext autoreload\n",
      "==============================================================================\n",
      "Please go to /home/<USER>/.local/lib/python3.9/site-packages/torch/storage.py\n",
      "and change def _load_from_bytes(b):\n",
      "to\n",
      "    return torch.load(io.BytesIO(b), map_location=\"cpu\")\n",
      "==============================================================================\n"
     ]
    }
   ],
   "source": [
    "%load_ext autoreload\n",
    "%autoreload 2\n",
    "\n",
    "import os,sys,inspect\n",
    "# current_dir = '/home/jiayuand/seqOED_variational/examples/location'\n",
    "# parent_dir = '/home/jiayuand/seqOED_variational'\n",
    "\n",
    "# current_dir = os.path.dirname(os.path.abspath(inspect.getfile(inspect.currentframe())))\n",
    "# parent_dir = os.path.dirname(os.path.dirname(current_dir))\n",
    "parent_dir = '../../../../'\n",
    "sys.path.insert(0, parent_dir) \n",
    "\n",
    "import numpy as np\n",
    "# from scipy.stats import norm, beta, dirichlet\n",
    "import matplotlib.pyplot as plt\n",
    "import torch\n",
    "import torch.nn as nn\n",
    "from   torch.utils.data import DataLoader, TensorDataset\n",
    "import torch.optim as optim\n",
    "if torch.cuda.is_available():  \n",
    "    dev = \"cuda\" \n",
    "else:  \n",
    "    dev = \"cpu\"  \n",
    "device = torch.device(dev) \n",
    "torch.set_default_device(device)\n",
    "dtype = torch.float32\n",
    "torch.set_default_dtype(dtype)\n",
    "\n",
    "from vsOED import VSOED, PGvsOED, GMM_NET, NFs, POST_APPROX\n",
    "from vsOED.utils import *\n",
    "from vsOED.models import *\n",
    "\n",
    "import dowel\n",
    "import joblib\n",
    "\n",
    "print('==============================================================================')\n",
    "print('Please go to /home/<USER>/.local/lib/python3.9/site-packages/torch/storage.py')\n",
    "print('and change def _load_from_bytes(b):')\n",
    "print('to')\n",
    "print(f'    return torch.load(io.BytesIO(b), map_location=\"{dev}\")')\n",
    "print('==============================================================================')"
   ]
  },
  {
   "cell_type": "markdown",
   "id": "9e65e188-c7fa-4021-8d6c-3467130aeff7",
   "metadata": {},
   "source": [
    "# Only interested in parameter of interest (poi)"
   ]
  },
  {
   "cell_type": "code",
   "execution_count": 3,
   "id": "fc5eff62-f26b-4d2e-85b1-b4ef1eed7ed1",
   "metadata": {},
   "outputs": [],
   "source": [
    "data_folder = parent_dir + './results/source/unimodel/poi/'\n",
    "subfolders = {'rl': './RL_BOED/',\n",
    "              'gmm': data_folder + 'GMM',\n",
    "              'nfs': data_folder + 'NFs'}\n",
    "postfix = {'gmm':{'terminal': '_5e-4', 'incre': ''}}"
   ]
  },
  {
   "cell_type": "code",
   "execution_count": 4,
   "id": "e3008cb3-3bf2-4f6e-b2d5-7240f75ad3df",
   "metadata": {},
   "outputs": [],
   "source": [
    "# pick a mode , id and horizon, and load the data\n",
    "post_net_type = 'gmm'\n",
    "mode = 'terminal'\n",
    "id = 0\n",
    "h = 30\n",
    "subfolder = subfolders[post_net_type] + f'/{mode}_id{id}_h{h}/'\n",
    "eval_data = torch.load(subfolder + 'evaluation.pt', map_location=device)\n",
    "params = eval_data['params']\n",
    "ds_hist = eval_data['ds_hist']\n",
    "ys_hist = eval_data['ys_hist']\n",
    "rewards_hist = eval_data['rewards_hist']\n",
    "vsoed = joblib.load(subfolder + f'/itr_10000.pkl')"
   ]
  },
  {
   "cell_type": "code",
   "execution_count": 6,
   "id": "155b7318-da3d-4988-9b55-2b1fa6415032",
   "metadata": {},
   "outputs": [],
   "source": [
    "n_traj = 8000\n",
    "n_design = vsoed.n_design\n",
    "design_bounds = vsoed.design_bounds\n",
    "\n",
    "def new_actor(*args, **kws):\n",
    "    return torch.rand(n_traj, n_design) * (design_bounds[:, 1] - design_bounds[:, 0]) + design_bounds[:, 0]\n",
    "\n",
    "vsoed.actor = new_actor"
   ]
  },
  {
   "cell_type": "code",
   "execution_count": 7,
   "id": "16bf6b45-4821-42c7-8275-b226dfb45a0f",
   "metadata": {},
   "outputs": [
    {
     "name": "stderr",
     "output_type": "stream",
     "text": [
      "  2%|▏         | 41/2000 [00:29<23:48,  1.37it/s]\n"
     ]
    },
    {
     "ename": "KeyboardInterrupt",
     "evalue": "",
     "output_type": "error",
     "traceback": [
      "\u001b[0;31m---------------------------------------------------------------------------\u001b[0m",
      "\u001b[0;31mKeyboardInterrupt\u001b[0m                         Traceback (most recent call last)",
      "\u001b[0;32m/tmp/ipykernel_1251511/1251670787.py\u001b[0m in \u001b[0;36m<module>\u001b[0;34m\u001b[0m\n\u001b[0;32m----> 1\u001b[0;31m \u001b[0mret\u001b[0m \u001b[0;34m=\u001b[0m \u001b[0mvsoed\u001b[0m\u001b[0;34m.\u001b[0m\u001b[0masses\u001b[0m\u001b[0;34m(\u001b[0m\u001b[0mn_traj\u001b[0m\u001b[0;34m,\u001b[0m \u001b[0mn_contrastive_sample\u001b[0m\u001b[0;34m=\u001b[0m\u001b[0mint\u001b[0m\u001b[0;34m(\u001b[0m\u001b[0;36m1e6\u001b[0m\u001b[0;34m)\u001b[0m\u001b[0;34m,\u001b[0m \u001b[0mreturn_all\u001b[0m\u001b[0;34m=\u001b[0m\u001b[0;32mTrue\u001b[0m\u001b[0;34m)\u001b[0m\u001b[0;34m\u001b[0m\u001b[0;34m\u001b[0m\u001b[0m\n\u001b[0m",
      "\u001b[0;32m/gpfs/accounts/xhuan_root/xhuan1/wgshen/vsOED/figures/source/unimodel/RANDOM/../../../../vsOED/pg_vsoed.py\u001b[0m in \u001b[0;36masses\u001b[0;34m(self, n_traj, design_noise_scale, in_training, use_PCE, use_PCE_incre, n_contrastive_sample, return_nkld_rewards, return_all, param_samples, save_path, dowel)\u001b[0m\n\u001b[1;32m   1024\u001b[0m                                 \u001b[0mcontrastive_loglikelis\u001b[0m \u001b[0;34m=\u001b[0m \u001b[0mloglikelis\u001b[0m\u001b[0;34m.\u001b[0m\u001b[0mreshape\u001b[0m\u001b[0;34m(\u001b[0m\u001b[0;34m-\u001b[0m\u001b[0;36m1\u001b[0m\u001b[0;34m,\u001b[0m \u001b[0;36m1\u001b[0m\u001b[0;34m)\u001b[0m\u001b[0;34m\u001b[0m\u001b[0;34m\u001b[0m\u001b[0m\n\u001b[1;32m   1025\u001b[0m                             \u001b[0;32melse\u001b[0m\u001b[0;34m:\u001b[0m\u001b[0;34m\u001b[0m\u001b[0;34m\u001b[0m\u001b[0m\n\u001b[0;32m-> 1026\u001b[0;31m                                 \u001b[0mcontrastive_loglikelis\u001b[0m \u001b[0;34m=\u001b[0m \u001b[0mtorch\u001b[0m\u001b[0;34m.\u001b[0m\u001b[0mcat\u001b[0m\u001b[0;34m(\u001b[0m\u001b[0;34m[\u001b[0m\u001b[0mcontrastive_loglikelis\u001b[0m\u001b[0;34m,\u001b[0m \u001b[0mloglikelis\u001b[0m\u001b[0;34m.\u001b[0m\u001b[0mreshape\u001b[0m\u001b[0;34m(\u001b[0m\u001b[0;34m-\u001b[0m\u001b[0;36m1\u001b[0m\u001b[0;34m,\u001b[0m \u001b[0;36m1\u001b[0m\u001b[0;34m)\u001b[0m\u001b[0;34m]\u001b[0m\u001b[0;34m,\u001b[0m \u001b[0mdim\u001b[0m\u001b[0;34m=\u001b[0m\u001b[0;36m1\u001b[0m\u001b[0;34m)\u001b[0m\u001b[0;34m\u001b[0m\u001b[0;34m\u001b[0m\u001b[0m\n\u001b[0m\u001b[1;32m   1027\u001b[0m                         \u001b[0;31m# contrastive_likelis = torch.exp(contrastive_loglikelis)\u001b[0m\u001b[0;34m\u001b[0m\u001b[0;34m\u001b[0m\u001b[0m\n\u001b[1;32m   1028\u001b[0m                         \u001b[0;31m# print(contrastive_likelis)\u001b[0m\u001b[0;34m\u001b[0m\u001b[0;34m\u001b[0m\u001b[0m\n",
      "\u001b[0;32m~/.local/lib/python3.9/site-packages/torch/utils/_device.py\u001b[0m in \u001b[0;36m__torch_function__\u001b[0;34m(self, func, types, args, kwargs)\u001b[0m\n\u001b[1;32m     60\u001b[0m         \u001b[0;32mif\u001b[0m \u001b[0mfunc\u001b[0m \u001b[0;32min\u001b[0m \u001b[0m_device_constructors\u001b[0m\u001b[0;34m(\u001b[0m\u001b[0;34m)\u001b[0m \u001b[0;32mand\u001b[0m \u001b[0mkwargs\u001b[0m\u001b[0;34m.\u001b[0m\u001b[0mget\u001b[0m\u001b[0;34m(\u001b[0m\u001b[0;34m'device'\u001b[0m\u001b[0;34m)\u001b[0m \u001b[0;32mis\u001b[0m \u001b[0;32mNone\u001b[0m\u001b[0;34m:\u001b[0m\u001b[0;34m\u001b[0m\u001b[0;34m\u001b[0m\u001b[0m\n\u001b[1;32m     61\u001b[0m             \u001b[0mkwargs\u001b[0m\u001b[0;34m[\u001b[0m\u001b[0;34m'device'\u001b[0m\u001b[0;34m]\u001b[0m \u001b[0;34m=\u001b[0m \u001b[0mself\u001b[0m\u001b[0;34m.\u001b[0m\u001b[0mdevice\u001b[0m\u001b[0;34m\u001b[0m\u001b[0;34m\u001b[0m\u001b[0m\n\u001b[0;32m---> 62\u001b[0;31m         \u001b[0;32mreturn\u001b[0m \u001b[0mfunc\u001b[0m\u001b[0;34m(\u001b[0m\u001b[0;34m*\u001b[0m\u001b[0margs\u001b[0m\u001b[0;34m,\u001b[0m \u001b[0;34m**\u001b[0m\u001b[0mkwargs\u001b[0m\u001b[0;34m)\u001b[0m\u001b[0;34m\u001b[0m\u001b[0;34m\u001b[0m\u001b[0m\n\u001b[0m\u001b[1;32m     63\u001b[0m \u001b[0;34m\u001b[0m\u001b[0m\n\u001b[1;32m     64\u001b[0m \u001b[0;31m# NB: This is directly called from C++ in torch/csrc/Device.cpp\u001b[0m\u001b[0;34m\u001b[0m\u001b[0;34m\u001b[0m\u001b[0m\n",
      "\u001b[0;31mKeyboardInterrupt\u001b[0m: "
     ]
    }
   ],
   "source": [
    "ret = vsoed.asses(n_traj, n_contrastive_sample=int(1e6), return_all=True)"
   ]
  },
  {
   "cell_type": "code",
   "execution_count": null,
   "id": "67904c3e-f202-4195-a301-3fce3e3b8dc4",
   "metadata": {},
   "outputs": [],
   "source": [
    "rwds = torch.cumsum(ret['rewards_hist'][:, :-1], dim=1)"
   ]
  },
  {
   "cell_type": "code",
   "execution_count": null,
   "id": "99701d70-682e-408b-b7ab-af471ec6f0d7",
   "metadata": {},
   "outputs": [],
   "source": [
    "mean = rwds.mean(dim=0).cpu().numpy()\n",
    "se = (rwds.std(dim=0) / np.sqrt(len(rwds))).cpu().numpy()"
   ]
  },
  {
   "cell_type": "code",
   "execution_count": null,
   "id": "d11d85e2-e5f2-4ed8-b96f-af67e00c261b",
   "metadata": {},
   "outputs": [],
   "source": [
    "np.save('random.npy', {'mean':mean, 'se':se})"
   ]
  }
 ],
 "metadata": {
  "kernelspec": {
   "display_name": "Python 3 (ipykernel)",
   "language": "python",
   "name": "python3"
  },
  "language_info": {
   "codemirror_mode": {
    "name": "ipython",
    "version": 3
   },
   "file_extension": ".py",
   "mimetype": "text/x-python",
   "name": "python",
   "nbconvert_exporter": "python",
   "pygments_lexer": "ipython3",
   "version": "3.9.7"
  }
 },
 "nbformat": 4,
 "nbformat_minor": 5
}
