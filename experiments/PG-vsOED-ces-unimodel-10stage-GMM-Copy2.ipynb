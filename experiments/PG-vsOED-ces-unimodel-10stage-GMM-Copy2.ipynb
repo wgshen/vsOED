{
 "cells": [
  {
   "cell_type": "code",
   "execution_count": 1,
   "id": "d93bd65a-05d5-4092-bbc9-41717665189a",
   "metadata": {},
   "outputs": [],
   "source": [
    "%load_ext autoreload\n",
    "%autoreload 2\n",
    "\n",
    "import os,sys,inspect\n",
    "# current_dir = '/home/jiayuand/seqOED_variational/examples/location'\n",
    "# parent_dir = '/home/jiayuand/seqOED_variational'\n",
    "\n",
    "# current_dir = os.path.dirname(os.path.abspath(inspect.getfile(inspect.currentframe())))\n",
    "# parent_dir = os.path.dirname(os.path.dirname(current_dir))\n",
    "parent_dir = '/scratch/xhuan_root/xhuan1/wgshen/vsOED/'\n",
    "sys.path.insert(0, parent_dir) \n",
    "\n",
    "import numpy as np\n",
    "# from scipy.stats import norm, beta, dirichlet\n",
    "import matplotlib.pyplot as plt\n",
    "import torch\n",
    "import torch.nn as nn\n",
    "from   torch.utils.data import DataLoader, TensorDataset\n",
    "import torch.optim as optim\n",
    "if torch.cuda.is_available():  \n",
    "    dev = \"cuda:0\" \n",
    "else:  \n",
    "    dev = \"cpu\"  \n",
    "device = torch.device(dev) \n",
    "torch.set_default_device(device)\n",
    "dtype = torch.float32\n",
    "torch.set_default_dtype(dtype)\n",
    "\n",
    "from vsOED import VSOED, PGvsOED, GMM_NET, NFs, POST_APPROX\n",
    "from vsOED.utils import *\n",
    "from vsOED.models import *\n",
    "\n",
    "import dowel"
   ]
  },
  {
   "cell_type": "code",
   "execution_count": 2,
   "id": "0856ee9b-65cc-4817-a930-9cf5bf76dea0",
   "metadata": {},
   "outputs": [
    {
     "name": "stdout",
     "output_type": "stream",
     "text": [
      "2023-05-02 14:17:35 | [CES] Stored at /scratch/xhuan_root/xhuan1/wgshen/vsOED/experiments/ces_1model_10stage_10incre_GMM/\n",
      "2023-05-02 14:17:35 | [CES] Random seed:  48563549\n",
      "2023-05-02 14:17:35 | [CES] Device: cuda:0\n",
      "2023-05-02 14:17:35 | [CES] dtype: torch.float32\n",
      "2023-05-02 14:17:35 | [CES] Post_approx_params: {'n_stage': 10, 'n_design': 6, 'n_obs': 1, 'n_pois': [4], 'n_nuisps': None, 'n_goals': None, 'model_weight': 0, 'poi_weight': 1, 'goal_weight': 0, 'mu_bounds': {'poi': [[[-1, 2], [-1, 2], [-1, 2], [-17, 19]]]}, 'max_sigmas': {'poi': [[3.0, 3.0, 3.0, 3.0]]}, 'truncnorm_info': {'poi': [[[0, 0.0, 1.0], [1, 0.0, 1.0], [2, 0.0, 1.0]]]}, 'n_mixture': 8, 'activate': <class 'torch.nn.modules.activation.ReLU'>, 'prior': <vsOED.models.CES object at 0x149ba814da90>, 'n_incre': 10, 'share_interm_net': False, 'model_post_lrs': [0.001, 0.001, 0.001, 0.001, 0.001, 0.001, 0.001, 0.001, 0.001, 0.001], 'model_post_lr_scheduler_gammas': [0.9999, 0.9999, 0.9999, 0.9999, 0.9999, 0.9999, 0.9999, 0.9999, 0.9999, 0.9999], 'poi_post_lrs': [0.001, 0.001, 0.001, 0.001, 0.001, 0.001, 0.001, 0.001, 0.001, 0.001], 'poi_post_lr_scheduler_gammas': [0.9999, 0.9999, 0.9999, 0.9999, 0.9999, 0.9999, 0.9999, 0.9999, 0.9999, 0.9999], 'goal_post_lrs': [0.001, 0.001, 0.001, 0.001, 0.001, 0.001, 0.001, 0.001, 0.001, 0.001], 'goal_post_lr_scheduler_gammas': [0.9999, 0.9999, 0.9999, 0.9999, 0.9999, 0.9999, 0.9999, 0.9999, 0.9999, 0.9999], 'use_NFs': False, 'log_every': 100, 'dowel': <module 'dowel' from '/home/wgshen/.local/lib/python3.9/site-packages/dowel/__init__.py'>}\n",
      "2023-05-02 14:17:35 | [CES] Learn the posterior approximator at stages: [0, 1, 2, 3, 4, 5, 6, 7, 8, 9]\n"
     ]
    }
   ],
   "source": [
    "n_stage      = 10       # Number of stages.\n",
    "n_design     = 6        # Number of design variables.\n",
    "n_obs        = 1        # Number of observations.\n",
    "n_pois       = [4]        # Number of parameters.\n",
    "n_nuisps     = None\n",
    "n_goals      = None\n",
    "model_weight = 0\n",
    "poi_weight   = 1\n",
    "goal_weight  = 0\n",
    "\n",
    "random_state  = TRAIN_SEEDS[0]\n",
    "set_random_seed(random_state)\n",
    "\n",
    "model = CES()\n",
    "prior = model\n",
    "\n",
    "mu_bounds = {}\n",
    "mu_bounds['poi'] = []\n",
    "for n_poi in n_pois:\n",
    "    mu_bounds['poi'].append([[-1, 2], [-1, 2], [-1, 2], [-17, 19]])\n",
    "if n_goals is not None:\n",
    "    mu_bounds['goal'] = []\n",
    "    for n_goal in n_goals:\n",
    "        mu_bounds['goal'].append([[0, 3]] * n_goal)\n",
    "max_sigmas = {}\n",
    "max_sigmas['poi'] = []\n",
    "for n_poi in n_pois:\n",
    "    max_sigmas['poi'].append([3.0] * n_poi)\n",
    "if n_goals is not None:\n",
    "    max_sigmas['goal'] = []\n",
    "    for n_goal in n_goals:\n",
    "        max_sigmas['goal'].append([1.0] * n_goal)\n",
    "truncnorm_info = {}\n",
    "truncnorm_info['poi'] = [[[0, 0., 1.], [1, 0., 1.], [2, 0., 1.]]]\n",
    "if n_goals is not None:\n",
    "    truncnorm_info['goal'] = []\n",
    "    for n_goal in n_goals:\n",
    "        info = []\n",
    "        for i in range(n_goal):\n",
    "            info.append([i, 0, 4])\n",
    "            \n",
    "n_incre = 10\n",
    "share_interm_net = False\n",
    "\n",
    "candidate_lrs = [[1e-3] * n_incre, [1e-5] * (n_incre - 1) + [1e-4]]\n",
    "candidate_gammas = [[0.9999] * n_incre, [0.999999] * (n_incre - 1) + [0.99999]]\n",
    "model_post_lrs = candidate_lrs[share_interm_net]\n",
    "model_post_lr_scheduler_gammas = candidate_gammas[share_interm_net]\n",
    "poi_post_lrs = candidate_lrs[share_interm_net]\n",
    "poi_post_lr_scheduler_gammas = candidate_gammas[share_interm_net]\n",
    "goal_post_lrs = candidate_lrs[share_interm_net]\n",
    "goal_post_lr_scheduler_gammas = candidate_gammas[share_interm_net]\n",
    "\n",
    "use_NFs = False\n",
    "n_mixture = 8\n",
    "activate = nn.ReLU\n",
    "\n",
    "log_every = 100\n",
    "folder = parent_dir + f'experiments/ces_{len(n_pois)}model_{n_stage}stage_{n_incre}incre_GMM/'\n",
    "try:\n",
    "    os.remove(folder + 'progress.csv')\n",
    "except:\n",
    "    pass\n",
    "try:\n",
    "    os.remove(folder + 'progress.txt')\n",
    "except:\n",
    "    pass\n",
    "try:\n",
    "    dowel.logger.remove_all()\n",
    "except:\n",
    "    pass\n",
    "dowel.logger.add_output(dowel.StdOutput())\n",
    "dowel.logger.add_output(dowel.CsvOutput(folder + 'progress.csv'))\n",
    "dowel.logger.add_output(dowel.TextOutput(folder + 'progress.txt'))\n",
    "\n",
    "try:\n",
    "    for _ in range(100):\n",
    "        dowel.logger.pop_prefix()\n",
    "except:\n",
    "    pass\n",
    "dowel.logger.push_prefix('[CES] ')\n",
    "dowel.logger.log('Stored at ' + folder)\n",
    "dowel.logger.log('Random seed:  ' + str(random_state))\n",
    "dowel.logger.log('Device: ' + str(device))\n",
    "dowel.logger.log('dtype: ' + str(dtype))\n",
    "\n",
    "post_approx_params = {\n",
    "    'n_stage': n_stage, \n",
    "    'n_design': n_design, \n",
    "    'n_obs': n_obs, \n",
    "    'n_pois': n_pois,\n",
    "    'n_nuisps': n_nuisps,\n",
    "    'n_goals': n_goals,\n",
    "    'model_weight': model_weight,\n",
    "    'poi_weight': poi_weight,\n",
    "    'goal_weight': goal_weight,\n",
    "    'mu_bounds': mu_bounds,\n",
    "    'max_sigmas': max_sigmas,\n",
    "    'truncnorm_info': truncnorm_info,\n",
    "    'n_mixture': n_mixture,\n",
    "    'activate': activate,\n",
    "    'prior': prior,\n",
    "    'n_incre': n_incre,\n",
    "    'share_interm_net': share_interm_net,\n",
    "    'model_post_lrs': model_post_lrs,\n",
    "    'model_post_lr_scheduler_gammas': model_post_lr_scheduler_gammas,\n",
    "    'poi_post_lrs': poi_post_lrs,\n",
    "    'poi_post_lr_scheduler_gammas': poi_post_lr_scheduler_gammas,\n",
    "    'goal_post_lrs': goal_post_lrs,\n",
    "    'goal_post_lr_scheduler_gammas': goal_post_lr_scheduler_gammas,\n",
    "    'use_NFs': use_NFs,\n",
    "    'log_every': log_every,\n",
    "    'dowel': dowel}\n",
    "\n",
    "dowel.logger.log('Post_approx_params: ' + str(post_approx_params))\n",
    "\n",
    "dowel.logger.dump_all()\n",
    "# dowel.logger.remove_all()\n",
    "\n",
    "post_approx = POST_APPROX(**post_approx_params)\n",
    "dowel.logger.dump_all()"
   ]
  },
  {
   "cell_type": "code",
   "execution_count": 3,
   "id": "2802f7b9-2b8c-4925-8fad-ad0065a2151c",
   "metadata": {},
   "outputs": [
    {
     "name": "stdout",
     "output_type": "stream",
     "text": [
      "2023-05-02 14:17:35 | [CES] vsoed_params: {'n_stage': 10, 'n_param': 4, 'n_design': 6, 'n_obs': 1, 'model': <vsOED.models.CES object at 0x149ba814da90>, 'prior': <vsOED.models.CES object at 0x149ba814da90>, 'design_bounds': [(0, 1), (0, 1), (0, 1), (0, 1), (0, 1), (0, 1)], 'nkld_reward_fun': <bound method CES.reward_fun of <vsOED.models.CES object at 0x149ba814da90>>, 'kld_reward_fun': <bound method POST_APPROX.reward_fun of <vsOED.post_approx.POST_APPROX object at 0x149a50c17460>>, 'phys_state_info': None, 'post_approx': <vsOED.post_approx.POST_APPROX object at 0x149a50c17460>, 'encoder_dimns': None, 'backend_dimns': None, 'actor_dimns': [256, 256, 256], 'critic_dimns': [256, 256, 256], 'activate': <class 'torch.nn.modules.activation.ReLU'>}\n"
     ]
    }
   ],
   "source": [
    "n_param = len(n_pois) > 1\n",
    "try:\n",
    "    n_param += max(n_pois)\n",
    "except:\n",
    "    pass\n",
    "try:\n",
    "    n_param += max(n_nuisps)\n",
    "except:\n",
    "    pass\n",
    "try:\n",
    "    n_param += max(n_goals)\n",
    "except:\n",
    "    pass\n",
    "\n",
    "design_bounds = [(0, 1)] * n_design # lower and upper bounds of design variables.\n",
    "nkld_reward_fun = model.reward_fun\n",
    "kld_reward_fun = post_approx.reward_fun\n",
    "phys_state_info = None\n",
    "post_approx = post_approx\n",
    "encoder_dimns = None\n",
    "backend_dimns = None\n",
    "actor_dimns = [256, 256, 256]\n",
    "critic_dimns = [256, 256, 256]\n",
    "\n",
    "vsoed_params = {\n",
    "    'n_stage': n_stage,\n",
    "    'n_param': n_param,\n",
    "    'n_design': n_design,\n",
    "    'n_obs': n_obs,\n",
    "    'model': model,\n",
    "    'prior': prior,\n",
    "    'design_bounds': design_bounds,\n",
    "    'nkld_reward_fun': nkld_reward_fun,\n",
    "    'kld_reward_fun': kld_reward_fun,\n",
    "    'phys_state_info': phys_state_info,\n",
    "    'post_approx': post_approx,\n",
    "    'encoder_dimns': encoder_dimns,\n",
    "    'backend_dimns': backend_dimns,\n",
    "    'actor_dimns': actor_dimns,\n",
    "    'critic_dimns': critic_dimns,\n",
    "    'activate': activate\n",
    "}\n",
    "dowel.logger.log('vsoed_params: ' + str(vsoed_params))\n",
    "\n",
    "vsoed = PGvsOED(**vsoed_params)"
   ]
  },
  {
   "cell_type": "code",
   "execution_count": 4,
   "id": "0227ea5f-e230-4ae4-9958-f217979b7a83",
   "metadata": {},
   "outputs": [
    {
     "name": "stdout",
     "output_type": "stream",
     "text": [
      "2023-05-02 14:17:56 | [CES] vsoed_train_params: {'n_update': 10001, 'n_newtraj': 1000, 'n_batch': 10000, 'n_buffer_init': 20000, 'n_buffer_max': 1000000, 'buffer_device': device(type='cuda'), 'discount': 0.9, 'encoder_actor_optimizer': None, 'encoder_actor_lr_scheduler': None, 'encoder_critic_optimizer': None, 'encoder_critic_lr_scheduler': None, 'actor_lr': 0.0001, 'actor_optimizer': Adam (\n",
      "Parameter Group 0\n",
      "    amsgrad: False\n",
      "    betas: (0.9, 0.999)\n",
      "    capturable: False\n",
      "    differentiable: False\n",
      "    eps: 1e-08\n",
      "    foreach: None\n",
      "    fused: None\n",
      "    initial_lr: 0.0001\n",
      "    lr: 0.0001\n",
      "    maximize: False\n",
      "    weight_decay: 0\n",
      "), 'actor_lr_scheduler_gamma': 0.9999, 'actor_lr_scheduler': <torch.optim.lr_scheduler.ExponentialLR object at 0x149a50c36b80>, 'n_critic_update': 5, 'critic_lr': 0.001, 'critic_optimizer': Adam (\n",
      "Parameter Group 0\n",
      "    amsgrad: False\n",
      "    betas: (0.9, 0.999)\n",
      "    capturable: False\n",
      "    differentiable: False\n",
      "    eps: 1e-08\n",
      "    foreach: None\n",
      "    fused: None\n",
      "    initial_lr: 0.001\n",
      "    lr: 0.001\n",
      "    maximize: False\n",
      "    weight_decay: 0\n",
      "), 'critic_lr_scheduler_gamma': 0.9999, 'critic_lr_scheduler': <torch.optim.lr_scheduler.ExponentialLR object at 0x149a50c36760>, 'n_post_approx_update': 5, 'lr_target': 0.1, 'design_noise_scale': 0.05, 'design_noise_decay': 0.9998, 'on_policy': False, 'use_PCE': False, 'use_PCE_incre': None, 'n_contrastive_sample': None, 'transition': 0, 'frozen': -1, 'log_every': 100, 'dowel': <module 'dowel' from '/home/wgshen/.local/lib/python3.9/site-packages/dowel/__init__.py'>, 'save_every': 1000, 'save_path': '/scratch/xhuan_root/xhuan1/wgshen/vsOED/experiments/ces_1model_10stage_10incre_GMM/', 'restart': False}\n"
     ]
    }
   ],
   "source": [
    "actor_lr = 1e-4\n",
    "actor_lr_scheduler_gamma = 0.9999\n",
    "critic_lr = 1e-3\n",
    "critic_lr_scheduler_gamma = 0.9999\n",
    "    \n",
    "n_update = 10001\n",
    "n_newtraj = 1000\n",
    "n_batch = 10000\n",
    "n_buffer_init = n_batch * 2\n",
    "n_buffer_max = int(1e6)\n",
    "buffer_device = torch.device('cuda')\n",
    "discount = 1 if n_incre == 1 else 0.9\n",
    "encoder_actor_optimizer = None\n",
    "encoder_actor_lr_scheduler = None\n",
    "encoder_critic_optimizer = None\n",
    "encoder_critic_lr_scheduler = None\n",
    "actor_optimizer = optim.Adam(vsoed.actor_net.parameters(), lr=actor_lr)\n",
    "actor_lr_scheduler = optim.lr_scheduler.ExponentialLR(actor_optimizer, gamma=actor_lr_scheduler_gamma)\n",
    "n_critic_update = 5\n",
    "critic_optimizer = optim.Adam(vsoed.critic_net.parameters(), lr=critic_lr)\n",
    "critic_lr_scheduler = optim.lr_scheduler.ExponentialLR(critic_optimizer, gamma=critic_lr_scheduler_gamma)\n",
    "n_post_approx_update = 5\n",
    "lr_target = 0.1\n",
    "design_noise_scale = 0.05\n",
    "design_noise_decay = 0.9998\n",
    "on_policy = False\n",
    "use_PCE = False\n",
    "use_PCE_incre = None\n",
    "n_contrastive_sample = None\n",
    "transition = 10000 if n_incre == 1 else 0\n",
    "frozen = -1\n",
    "save_every = 1000\n",
    "save_path = folder\n",
    "restart = False\n",
    "\n",
    "vsoed_train_params = {\n",
    "    'n_update': n_update,\n",
    "    'n_newtraj': n_newtraj,\n",
    "    'n_batch': n_batch,\n",
    "    'n_buffer_init': n_buffer_init,\n",
    "    'n_buffer_max': n_buffer_max,\n",
    "    'buffer_device': buffer_device,\n",
    "    'discount': discount,\n",
    "    'encoder_actor_optimizer': encoder_actor_optimizer,\n",
    "    'encoder_actor_lr_scheduler': encoder_actor_lr_scheduler,\n",
    "    'encoder_critic_optimizer': encoder_critic_optimizer,\n",
    "    'encoder_critic_lr_scheduler': encoder_critic_lr_scheduler,\n",
    "    'actor_lr': actor_lr,\n",
    "    'actor_optimizer': actor_optimizer,\n",
    "    'actor_lr_scheduler_gamma': actor_lr_scheduler_gamma, \n",
    "    'actor_lr_scheduler': actor_lr_scheduler,\n",
    "    'n_critic_update': n_critic_update,\n",
    "    'critic_lr': critic_lr,\n",
    "    'critic_optimizer': critic_optimizer,\n",
    "    'critic_lr_scheduler_gamma': critic_lr_scheduler_gamma,\n",
    "    'critic_lr_scheduler': critic_lr_scheduler,\n",
    "    'n_post_approx_update': n_post_approx_update,\n",
    "    'lr_target': lr_target,\n",
    "    'design_noise_scale': design_noise_scale,\n",
    "    'design_noise_decay': design_noise_decay,\n",
    "    'on_policy': on_policy,\n",
    "    'use_PCE': use_PCE,\n",
    "    'use_PCE_incre': use_PCE_incre,\n",
    "    'n_contrastive_sample': n_contrastive_sample,\n",
    "    'transition': transition,\n",
    "    'frozen': frozen,\n",
    "    'log_every': log_every,\n",
    "    'dowel': dowel,\n",
    "    'save_every': save_every,\n",
    "    'save_path': save_path,\n",
    "    'restart': restart\n",
    "}\n",
    "\n",
    "dowel.logger.log('vsoed_train_params: ' + str(vsoed_train_params))\n",
    "\n",
    "del vsoed_train_params['actor_lr']\n",
    "del vsoed_train_params['actor_lr_scheduler_gamma']\n",
    "del vsoed_train_params['critic_lr']\n",
    "del vsoed_train_params['critic_lr_scheduler_gamma']"
   ]
  },
  {
   "cell_type": "code",
   "execution_count": null,
   "id": "98141d9b-f285-4fe9-a123-19138ed07370",
   "metadata": {
    "scrolled": true,
    "tags": []
   },
   "outputs": [
    {
     "name": "stdout",
     "output_type": "stream",
     "text": [
      "2023-05-02 14:17:58 | [SOURCE] epoch #0 | log param_of_interest post after training: -6.356921672821045\n",
      "2023-05-02 14:17:59 | [SOURCE] epoch #0 | Checkpoint saved\n",
      "2023-05-02 14:17:59 | [SOURCE] epoch #0 | Total time 2.08 s\n",
      "2023-05-02 14:17:59 | [SOURCE] epoch #0 | Epoch time 1.50 s\n",
      "------------------------  ---------------------------------------------------------------------------------------------------------------------------------------\n",
      "Design/MeanDesign         [0.4888325035572052, 0.49679863452911377, 0.5139910578727722, 0.49846526980400085, 0.5136035680770874, 0.511222779750824]\n",
      "Design/StdDesign          [0.003168025752529502, 0.0031742805149406195, 0.0021328695584088564, 0.001960309688001871, 0.002618112601339817, 0.0027957865968346596]\n",
      "Epoch                     0\n",
      "ReplayBuffer/buffer_size  20000\n",
      "Reward/MeanReward         -7.672204494476318\n",
      "Reward/StdReward          6.916858673095703\n",
      "------------------------  ---------------------------------------------------------------------------------------------------------------------------------------\n"
     ]
    },
    {
     "name": "stderr",
     "output_type": "stream",
     "text": [
      "/scratch/xhuan_root/xhuan1/wgshen/vsOED/vsOED/pg_vsoed.py:721: TabularInputWarning: \u001b[33mTabularInput {Epoch: type(str)} was not accepted by any output\u001b[0m\n",
      "  self.dowel.tabular.clear()\n",
      "/scratch/xhuan_root/xhuan1/wgshen/vsOED/vsOED/pg_vsoed.py:721: TabularInputWarning: \u001b[33mTabularInput {Reward/MeanReward: type(str)} was not accepted by any output\u001b[0m\n",
      "  self.dowel.tabular.clear()\n",
      "/scratch/xhuan_root/xhuan1/wgshen/vsOED/vsOED/pg_vsoed.py:721: TabularInputWarning: \u001b[33mTabularInput {Reward/StdReward: type(str)} was not accepted by any output\u001b[0m\n",
      "  self.dowel.tabular.clear()\n",
      "/scratch/xhuan_root/xhuan1/wgshen/vsOED/vsOED/pg_vsoed.py:721: TabularInputWarning: \u001b[33mTabularInput {Design/MeanDesign: type(str)} was not accepted by any output\u001b[0m\n",
      "  self.dowel.tabular.clear()\n",
      "/scratch/xhuan_root/xhuan1/wgshen/vsOED/vsOED/pg_vsoed.py:721: TabularInputWarning: \u001b[33mTabularInput {Design/StdDesign: type(str)} was not accepted by any output\u001b[0m\n",
      "  self.dowel.tabular.clear()\n",
      "/scratch/xhuan_root/xhuan1/wgshen/vsOED/vsOED/pg_vsoed.py:721: TabularInputWarning: \u001b[33mTabularInput {ReplayBuffer/buffer_size: type(str)} was not accepted by any output\u001b[0m\n",
      "  self.dowel.tabular.clear()\n"
     ]
    },
    {
     "name": "stdout",
     "output_type": "stream",
     "text": [
      "2023-05-02 14:19:39 | [SOURCE] epoch #100 | log param_of_interest post after training: -0.1706555038690567\n",
      "2023-05-02 14:19:39 | [SOURCE] epoch #100 | Total time 102.54 s\n",
      "2023-05-02 14:19:39 | [SOURCE] epoch #100 | Epoch time 1.00 s\n",
      "------------------------  ---------------------------------------------------------------------------------------------------------------------------\n",
      "Design/MeanDesign         [0.8887178301811218, 0.7783967852592468, 0.8051356077194214, 0.9213761687278748, 0.9249793887138367, 0.9379488229751587]\n",
      "Design/StdDesign          [0.12093847244977951, 0.121182881295681, 0.11998986452817917, 0.10593118518590927, 0.1014997810125351, 0.09249979257583618]\n",
      "Epoch                     100\n",
      "ReplayBuffer/buffer_size  120000\n",
      "Reward/MeanReward         1.3428623676300049\n",
      "Reward/StdReward          4.535980701446533\n",
      "------------------------  ---------------------------------------------------------------------------------------------------------------------------\n",
      "2023-05-02 14:21:19 | [SOURCE] epoch #200 | log param_of_interest post after training: 0.0483720637857914\n",
      "2023-05-02 14:21:20 | [SOURCE] epoch #200 | Total time 202.77 s\n",
      "2023-05-02 14:21:20 | [SOURCE] epoch #200 | Epoch time 1.00 s\n",
      "------------------------  -------------------------------------------------------------------------------------------------------------------------------\n",
      "Design/MeanDesign         [0.4149281978607178, 0.6695142388343811, 0.4739152789115906, 0.8086471557617188, 0.7786209583282471, 0.7483624815940857]\n",
      "Design/StdDesign          [0.040552038699388504, 0.08023698627948761, 0.014211742207407951, 0.11512065678834915, 0.10789263993501663, 0.1045183390378952]\n",
      "Epoch                     200\n",
      "ReplayBuffer/buffer_size  220000\n",
      "Reward/MeanReward         1.470996618270874\n",
      "Reward/StdReward          3.2989046573638916\n",
      "------------------------  -------------------------------------------------------------------------------------------------------------------------------\n",
      "2023-05-02 14:23:00 | [SOURCE] epoch #300 | log param_of_interest post after training: 0.06256682425737381\n",
      "2023-05-02 14:23:00 | [SOURCE] epoch #300 | Total time 303.23 s\n",
      "2023-05-02 14:23:00 | [SOURCE] epoch #300 | Epoch time 1.01 s\n",
      "------------------------  -------------------------------------------------------------------------------------------------------------------------------\n",
      "Design/MeanDesign         [0.5172280669212341, 0.5886273980140686, 0.3299609124660492, 0.5514140725135803, 0.5813276171684265, 0.5543615818023682]\n",
      "Design/StdDesign          [0.023117706179618835, 0.03182578086853027, 0.030203407630324364, 0.0503837950527668, 0.03147066757082939, 0.03706733509898186]\n",
      "Epoch                     300\n",
      "ReplayBuffer/buffer_size  320000\n",
      "Reward/MeanReward         2.062035322189331\n",
      "Reward/StdReward          3.0201144218444824\n",
      "------------------------  -------------------------------------------------------------------------------------------------------------------------------\n",
      "2023-05-02 14:24:40 | [SOURCE] epoch #400 | log param_of_interest post after training: 0.3301212191581726\n",
      "2023-05-02 14:24:40 | [SOURCE] epoch #400 | Total time 403.74 s\n",
      "2023-05-02 14:24:40 | [SOURCE] epoch #400 | Epoch time 1.00 s\n",
      "------------------------  ------------------------------------------------------------------------------------------------------------------------------\n",
      "Design/MeanDesign         [0.2851361632347107, 0.2982179522514343, 0.21611449122428894, 0.4222274422645569, 0.5433971285820007, 0.3825039863586426]\n",
      "Design/StdDesign          [0.06325823068618774, 0.058572739362716675, 0.0727832242846489, 0.16242073476314545, 0.13882644474506378, 0.17791256308555603]\n",
      "Epoch                     400\n",
      "ReplayBuffer/buffer_size  420000\n",
      "Reward/MeanReward         2.9262492656707764\n",
      "Reward/StdReward          3.4481914043426514\n",
      "------------------------  ------------------------------------------------------------------------------------------------------------------------------\n",
      "2023-05-02 14:26:21 | [SOURCE] epoch #500 | log param_of_interest post after training: 0.9009990692138672\n",
      "2023-05-02 14:26:21 | [SOURCE] epoch #500 | Total time 504.32 s\n",
      "2023-05-02 14:26:21 | [SOURCE] epoch #500 | Epoch time 1.01 s\n",
      "------------------------  ----------------------------------------------------------------------------------------------------------------------------\n",
      "Design/MeanDesign         [0.3582134544849396, 0.173027902841568, 0.20394271612167358, 0.25817805528640747, 0.2991909682750702, 0.3687303364276886]\n",
      "Design/StdDesign          [0.09826613962650299, 0.06366346776485443, 0.06746666133403778, 0.1330590844154358, 0.1621292233467102, 0.14710724353790283]\n",
      "Epoch                     500\n",
      "ReplayBuffer/buffer_size  520000\n",
      "Reward/MeanReward         3.693652629852295\n",
      "Reward/StdReward          3.8352882862091064\n",
      "------------------------  ----------------------------------------------------------------------------------------------------------------------------\n",
      "2023-05-02 14:28:01 | [SOURCE] epoch #600 | log param_of_interest post after training: 1.5786060094833374\n",
      "2023-05-02 14:28:01 | [SOURCE] epoch #600 | Total time 604.56 s\n",
      "2023-05-02 14:28:01 | [SOURCE] epoch #600 | Epoch time 1.00 s\n",
      "------------------------  -----------------------------------------------------------------------------------------------------------------------------\n",
      "Design/MeanDesign         [0.16316665709018707, 0.11897443234920502, 0.15941938757896423, 0.20979899168014526, 0.17051208019256592, 0.2629125416278839]\n",
      "Design/StdDesign          [0.0691089853644371, 0.07278253883123398, 0.0614999495446682, 0.1579190492630005, 0.15132497251033783, 0.15174998342990875]\n",
      "Epoch                     600\n",
      "ReplayBuffer/buffer_size  620000\n",
      "Reward/MeanReward         3.9997777938842773\n",
      "Reward/StdReward          4.1672515869140625\n",
      "------------------------  -----------------------------------------------------------------------------------------------------------------------------\n",
      "2023-05-02 14:29:42 | [SOURCE] epoch #700 | log param_of_interest post after training: 1.8995575904846191\n",
      "2023-05-02 14:29:42 | [SOURCE] epoch #700 | Total time 705.21 s\n",
      "2023-05-02 14:29:42 | [SOURCE] epoch #700 | Epoch time 1.01 s\n",
      "------------------------  -----------------------------------------------------------------------------------------------------------------------------\n",
      "Design/MeanDesign         [0.322176456451416, 0.1289205253124237, 0.12608028948307037, 0.19532723724842072, 0.3220677673816681, 0.2629944384098053]\n",
      "Design/StdDesign          [0.15145348012447357, 0.06269524246454239, 0.06059534102678299, 0.16122430562973022, 0.1705755889415741, 0.14283901453018188]\n",
      "Epoch                     700\n",
      "ReplayBuffer/buffer_size  720000\n",
      "Reward/MeanReward         4.118650436401367\n",
      "Reward/StdReward          4.1715850830078125\n",
      "------------------------  -----------------------------------------------------------------------------------------------------------------------------\n",
      "2023-05-02 14:31:22 | [SOURCE] epoch #800 | log param_of_interest post after training: 2.2694332599639893\n",
      "2023-05-02 14:31:22 | [SOURCE] epoch #800 | Total time 805.71 s\n",
      "2023-05-02 14:31:22 | [SOURCE] epoch #800 | Epoch time 1.01 s\n",
      "------------------------  ------------------------------------------------------------------------------------------------------------------------------\n",
      "Design/MeanDesign         [0.5159262418746948, 0.16466261446475983, 0.16161105036735535, 0.23420467972755432, 0.4280570149421692, 0.25828030705451965]\n",
      "Design/StdDesign          [0.20673292875289917, 0.05944521725177765, 0.058428093791007996, 0.15753334760665894, 0.10928219556808472, 0.1275332123041153]\n",
      "Epoch                     800\n",
      "ReplayBuffer/buffer_size  820000\n",
      "Reward/MeanReward         4.362283229827881\n",
      "Reward/StdReward          4.579408645629883\n",
      "------------------------  ------------------------------------------------------------------------------------------------------------------------------\n",
      "2023-05-02 14:33:03 | [SOURCE] epoch #900 | log param_of_interest post after training: 2.369917154312134\n",
      "2023-05-02 14:33:03 | [SOURCE] epoch #900 | Total time 906.15 s\n",
      "2023-05-02 14:33:03 | [SOURCE] epoch #900 | Epoch time 1.00 s\n",
      "------------------------  ----------------------------------------------------------------------------------------------------------------------------\n",
      "Design/MeanDesign         [0.6560747027397156, 0.05988612398505211, 0.07985274493694305, 0.14211437106132507, 0.5031400322914124, 0.3683059513568878]\n",
      "Design/StdDesign          [0.2898252606391907, 0.06530818343162537, 0.06616866588592529, 0.1696985512971878, 0.14839498698711395, 0.17254036664962769]\n",
      "Epoch                     900\n",
      "ReplayBuffer/buffer_size  920000\n",
      "Reward/MeanReward         3.703063726425171\n",
      "Reward/StdReward          4.360329627990723\n",
      "------------------------  ----------------------------------------------------------------------------------------------------------------------------\n",
      "2023-05-02 14:34:43 | [SOURCE] epoch #1000 | log param_of_interest post after training: 2.7430593967437744\n",
      "2023-05-02 14:34:44 | [SOURCE] epoch #1000 | Checkpoint saved\n",
      "2023-05-02 14:34:44 | [SOURCE] epoch #1000 | Total time 1006.99 s\n",
      "2023-05-02 14:34:44 | [SOURCE] epoch #1000 | Epoch time 1.59 s\n",
      "------------------------  -------------------------------------------------------------------------------------------------------------------------------\n",
      "Design/MeanDesign         [0.5896257162094116, 0.043465178459882736, 0.0716397687792778, 0.11075741797685623, 0.2690320611000061, 0.4324289560317993]\n",
      "Design/StdDesign          [0.30310535430908203, 0.055486757308244705, 0.07060199975967407, 0.15291540324687958, 0.14134730398654938, 0.17111128568649292]\n",
      "Epoch                     1000\n",
      "ReplayBuffer/buffer_size  1000000\n",
      "Reward/MeanReward         4.831146717071533\n",
      "Reward/StdReward          4.045187950134277\n",
      "------------------------  -------------------------------------------------------------------------------------------------------------------------------\n",
      "2023-05-02 14:36:24 | [SOURCE] epoch #1100 | log param_of_interest post after training: 3.167692184448242\n",
      "2023-05-02 14:36:24 | [SOURCE] epoch #1100 | Total time 1107.46 s\n",
      "2023-05-02 14:36:24 | [SOURCE] epoch #1100 | Epoch time 1.01 s\n",
      "------------------------  ------------------------------------------------------------------------------------------------------------------------------\n",
      "Design/MeanDesign         [0.4829144775867462, 0.04543868452310562, 0.050195831805467606, 0.07724432647228241, 0.401183158159256, 0.22701776027679443]\n",
      "Design/StdDesign          [0.3076635003089905, 0.053386054933071136, 0.05410433188080788, 0.13298772275447845, 0.17665734887123108, 0.14872466027736664]\n",
      "Epoch                     1100\n",
      "ReplayBuffer/buffer_size  1000000\n",
      "Reward/MeanReward         5.164392948150635\n",
      "Reward/StdReward          5.049472808837891\n",
      "------------------------  ------------------------------------------------------------------------------------------------------------------------------\n",
      "2023-05-02 14:38:05 | [SOURCE] epoch #1200 | log param_of_interest post after training: 3.2438712120056152\n",
      "2023-05-02 14:38:05 | [SOURCE] epoch #1200 | Total time 1208.36 s\n",
      "2023-05-02 14:38:05 | [SOURCE] epoch #1200 | Epoch time 1.01 s\n",
      "------------------------  -------------------------------------------------------------------------------------------------------------------------------\n",
      "Design/MeanDesign         [0.16400712728500366, 0.12976694107055664, 0.04310239851474762, 0.07493142038583755, 0.3952506184577942, 0.14363065361976624]\n",
      "Design/StdDesign          [0.10802893340587616, 0.06192874163389206, 0.056338805705308914, 0.13094475865364075, 0.15489976108074188, 0.11481207609176636]\n",
      "Epoch                     1200\n",
      "ReplayBuffer/buffer_size  1000000\n",
      "Reward/MeanReward         4.63260555267334\n",
      "Reward/StdReward          4.5164008140563965\n",
      "------------------------  -------------------------------------------------------------------------------------------------------------------------------\n",
      "2023-05-02 14:39:45 | [SOURCE] epoch #1300 | log param_of_interest post after training: 3.693279504776001\n",
      "2023-05-02 14:39:46 | [SOURCE] epoch #1300 | Total time 1308.91 s\n",
      "2023-05-02 14:39:46 | [SOURCE] epoch #1300 | Epoch time 1.00 s\n",
      "------------------------  ------------------------------------------------------------------------------------------------------------------------------\n",
      "Design/MeanDesign         [0.25455930829048157, 0.19089464843273163, 0.06477908045053482, 0.0944986343383789, 0.34404730796813965, 0.18738362193107605]\n",
      "Design/StdDesign          [0.16582851111888885, 0.07499726116657257, 0.06444225460290909, 0.14005835354328156, 0.14679531753063202, 0.11586544662714005]\n",
      "Epoch                     1300\n",
      "ReplayBuffer/buffer_size  1000000\n",
      "Reward/MeanReward         4.937142848968506\n",
      "Reward/StdReward          4.64165735244751\n",
      "------------------------  ------------------------------------------------------------------------------------------------------------------------------\n",
      "2023-05-02 14:41:26 | [SOURCE] epoch #1400 | log param_of_interest post after training: 3.53977108001709\n",
      "2023-05-02 14:41:26 | [SOURCE] epoch #1400 | Total time 1409.35 s\n",
      "2023-05-02 14:41:26 | [SOURCE] epoch #1400 | Epoch time 1.01 s\n",
      "------------------------  ----------------------------------------------------------------------------------------------------------------------------\n",
      "Design/MeanDesign         [0.46181321144104004, 0.12836629152297974, 0.07364197075366974, 0.10678388178348541, 0.2690710425376892, 0.2911998927593231]\n",
      "Design/StdDesign          [0.2809845507144928, 0.0837465450167656, 0.06066962704062462, 0.14847619831562042, 0.13624556362628937, 0.15576688945293427]\n",
      "Epoch                     1400\n",
      "ReplayBuffer/buffer_size  1000000\n",
      "Reward/MeanReward         5.350231647491455\n",
      "Reward/StdReward          4.624709129333496\n",
      "------------------------  ----------------------------------------------------------------------------------------------------------------------------\n",
      "2023-05-02 14:43:07 | [SOURCE] epoch #1500 | log param_of_interest post after training: 3.974555253982544\n",
      "2023-05-02 14:43:07 | [SOURCE] epoch #1500 | Total time 1510.01 s\n",
      "2023-05-02 14:43:07 | [SOURCE] epoch #1500 | Epoch time 1.01 s\n",
      "------------------------  -----------------------------------------------------------------------------------------------------------------------------\n",
      "Design/MeanDesign         [0.3566010296344757, 0.09276317805051804, 0.08590073883533478, 0.13535712659358978, 0.18119481205940247, 0.23741449415683746]\n",
      "Design/StdDesign          [0.2189120203256607, 0.07464178651571274, 0.060414426028728485, 0.15576480329036713, 0.11386173218488693, 0.1318076103925705]\n",
      "Epoch                     1500\n",
      "ReplayBuffer/buffer_size  1000000\n",
      "Reward/MeanReward         5.520983695983887\n",
      "Reward/StdReward          5.140120506286621\n",
      "------------------------  -----------------------------------------------------------------------------------------------------------------------------\n",
      "2023-05-02 14:44:47 | [SOURCE] epoch #1600 | log param_of_interest post after training: 4.052091598510742\n",
      "2023-05-02 14:44:48 | [SOURCE] epoch #1600 | Total time 1610.91 s\n",
      "2023-05-02 14:44:48 | [SOURCE] epoch #1600 | Epoch time 1.01 s\n",
      "------------------------  ------------------------------------------------------------------------------------------------------------------------------\n",
      "Design/MeanDesign         [0.40931886434555054, 0.07034578919410706, 0.1277150809764862, 0.12922553718090057, 0.18992526829242706, 0.31224778294563293]\n",
      "Design/StdDesign          [0.24195624887943268, 0.05960188806056976, 0.08773620426654816, 0.15779349207878113, 0.11532937735319138, 0.16301968693733215]\n",
      "Epoch                     1600\n",
      "ReplayBuffer/buffer_size  1000000\n",
      "Reward/MeanReward         5.7744221687316895\n",
      "Reward/StdReward          5.0503950119018555\n",
      "------------------------  ------------------------------------------------------------------------------------------------------------------------------\n",
      "2023-05-02 14:46:28 | [SOURCE] epoch #1700 | log param_of_interest post after training: 4.154242038726807\n",
      "2023-05-02 14:46:29 | [SOURCE] epoch #1700 | Total time 1711.87 s\n",
      "2023-05-02 14:46:29 | [SOURCE] epoch #1700 | Epoch time 1.02 s\n",
      "------------------------  -------------------------------------------------------------------------------------------------------------------------------\n",
      "Design/MeanDesign         [0.30595776438713074, 0.051296018064022064, 0.16384854912757874, 0.13343605399131775, 0.19368228316307068, 0.29978635907173157]\n",
      "Design/StdDesign          [0.17223644256591797, 0.04749384522438049, 0.11073001474142075, 0.15721510350704193, 0.12967367470264435, 0.18576310575008392]\n",
      "Epoch                     1700\n",
      "ReplayBuffer/buffer_size  1000000\n",
      "Reward/MeanReward         5.823126316070557\n",
      "Reward/StdReward          4.9426469802856445\n",
      "------------------------  -------------------------------------------------------------------------------------------------------------------------------\n",
      "2023-05-02 14:48:09 | [SOURCE] epoch #1800 | log param_of_interest post after training: 4.313649654388428\n",
      "2023-05-02 14:48:10 | [SOURCE] epoch #1800 | Total time 1812.90 s\n",
      "2023-05-02 14:48:10 | [SOURCE] epoch #1800 | Epoch time 1.01 s\n",
      "------------------------  -----------------------------------------------------------------------------------------------------------------------------\n",
      "Design/MeanDesign         [0.27361753582954407, 0.03534254804253578, 0.10254082828760147, 0.11534328013658524, 0.19362477958202362, 0.3311488628387451]\n",
      "Design/StdDesign          [0.16820986568927765, 0.04418690502643585, 0.07329553365707397, 0.15859773755073547, 0.1627861112356186, 0.22975865006446838]\n",
      "Epoch                     1800\n",
      "ReplayBuffer/buffer_size  1000000\n",
      "Reward/MeanReward         6.1879472732543945\n",
      "Reward/StdReward          4.756316184997559\n",
      "------------------------  -----------------------------------------------------------------------------------------------------------------------------\n",
      "2023-05-02 14:49:50 | [SOURCE] epoch #1900 | log param_of_interest post after training: 4.143979549407959\n",
      "2023-05-02 14:49:51 | [SOURCE] epoch #1900 | Total time 1913.80 s\n",
      "2023-05-02 14:49:51 | [SOURCE] epoch #1900 | Epoch time 1.00 s\n",
      "------------------------  -----------------------------------------------------------------------------------------------------------------------------\n",
      "Design/MeanDesign         [0.2905760109424591, 0.03412653133273125, 0.09575152397155762, 0.13312411308288574, 0.2208431363105774, 0.3532891571521759]\n",
      "Design/StdDesign          [0.1738511025905609, 0.04844171553850174, 0.07087834179401398, 0.18691527843475342, 0.21514253318309784, 0.25160446763038635]\n",
      "Epoch                     1900\n",
      "ReplayBuffer/buffer_size  1000000\n",
      "Reward/MeanReward         6.062138080596924\n",
      "Reward/StdReward          4.935317039489746\n",
      "------------------------  -----------------------------------------------------------------------------------------------------------------------------\n",
      "2023-05-02 14:51:31 | [SOURCE] epoch #2000 | log param_of_interest post after training: 4.372325897216797\n",
      "2023-05-02 14:51:32 | [SOURCE] epoch #2000 | Checkpoint saved\n",
      "2023-05-02 14:51:32 | [SOURCE] epoch #2000 | Total time 2015.24 s\n",
      "2023-05-02 14:51:32 | [SOURCE] epoch #2000 | Epoch time 1.56 s\n",
      "------------------------  -----------------------------------------------------------------------------------------------------------------------------\n",
      "Design/MeanDesign         [0.4902617931365967, 0.03776658698916435, 0.16403897106647491, 0.13392941653728485, 0.34757572412490845, 0.36311113834381104]\n",
      "Design/StdDesign          [0.25986936688423157, 0.04623584449291229, 0.12877929210662842, 0.1995684951543808, 0.28517282009124756, 0.284896582365036]\n",
      "Epoch                     2000\n",
      "ReplayBuffer/buffer_size  1000000\n",
      "Reward/MeanReward         5.94266414642334\n",
      "Reward/StdReward          5.085402011871338\n",
      "------------------------  -----------------------------------------------------------------------------------------------------------------------------\n",
      "2023-05-02 14:53:12 | [SOURCE] epoch #2100 | log param_of_interest post after training: 4.438016414642334\n",
      "2023-05-02 14:53:13 | [SOURCE] epoch #2100 | Total time 2115.91 s\n",
      "2023-05-02 14:53:13 | [SOURCE] epoch #2100 | Epoch time 1.01 s\n",
      "------------------------  ------------------------------------------------------------------------------------------------------------------------------\n",
      "Design/MeanDesign         [0.4464288055896759, 0.04410512000322342, 0.10726810991764069, 0.17108020186424255, 0.2810555696487427, 0.34597262740135193]\n",
      "Design/StdDesign          [0.22521716356277466, 0.05033082142472267, 0.07385790348052979, 0.23942072689533234, 0.27783656120300293, 0.28918513655662537]\n",
      "Epoch                     2100\n",
      "ReplayBuffer/buffer_size  1000000\n",
      "Reward/MeanReward         6.243156433105469\n",
      "Reward/StdReward          4.836488723754883\n",
      "------------------------  ------------------------------------------------------------------------------------------------------------------------------\n",
      "2023-05-02 14:54:53 | [SOURCE] epoch #2200 | log param_of_interest post after training: 4.0501909255981445\n",
      "2023-05-02 14:54:53 | [SOURCE] epoch #2200 | Total time 2216.54 s\n",
      "2023-05-02 14:54:53 | [SOURCE] epoch #2200 | Epoch time 1.01 s\n",
      "------------------------  ------------------------------------------------------------------------------------------------------------------------------\n",
      "Design/MeanDesign         [0.5819173455238342, 0.057809676975011826, 0.15242600440979004, 0.1455778330564499, 0.20523707568645477, 0.3038732707500458]\n",
      "Design/StdDesign          [0.25982344150543213, 0.046548329293727875, 0.10314268618822098, 0.21341626346111298, 0.24554617702960968, 0.2897655963897705]\n",
      "Epoch                     2200\n",
      "ReplayBuffer/buffer_size  1000000\n",
      "Reward/MeanReward         5.111476898193359\n",
      "Reward/StdReward          4.737516403198242\n",
      "------------------------  ------------------------------------------------------------------------------------------------------------------------------\n",
      "2023-05-02 14:56:34 | [SOURCE] epoch #2300 | log param_of_interest post after training: 4.396681785583496\n",
      "2023-05-02 14:56:34 | [SOURCE] epoch #2300 | Total time 2317.25 s\n",
      "2023-05-02 14:56:34 | [SOURCE] epoch #2300 | Epoch time 1.00 s\n",
      "------------------------  ------------------------------------------------------------------------------------------------------------------------------\n",
      "Design/MeanDesign         [0.6135678887367249, 0.23339088261127472, 0.13280436396598816, 0.11820517480373383, 0.21917033195495605, 0.459506094455719]\n",
      "Design/StdDesign          [0.29367849230766296, 0.22233636677265167, 0.08631094545125961, 0.20134706795215607, 0.22884054481983185, 0.27878206968307495]\n",
      "Epoch                     2300\n",
      "ReplayBuffer/buffer_size  1000000\n",
      "Reward/MeanReward         4.847912311553955\n",
      "Reward/StdReward          4.580312728881836\n",
      "------------------------  ------------------------------------------------------------------------------------------------------------------------------\n",
      "2023-05-02 14:58:14 | [SOURCE] epoch #2400 | log param_of_interest post after training: 4.470523357391357\n",
      "2023-05-02 14:58:15 | [SOURCE] epoch #2400 | Total time 2417.82 s\n",
      "2023-05-02 14:58:15 | [SOURCE] epoch #2400 | Epoch time 1.01 s\n",
      "------------------------  --------------------------------------------------------------------------------------------------------------------------\n",
      "Design/MeanDesign         [0.6196516156196594, 0.4241034686565399, 0.1586102694272995, 0.09202229976654053, 0.21209193766117096, 0.6276677250862122]\n",
      "Design/StdDesign          [0.323318213224411, 0.3572457432746887, 0.10696572065353394, 0.1897469460964203, 0.21407413482666016, 0.3008384108543396]\n",
      "Epoch                     2400\n",
      "ReplayBuffer/buffer_size  1000000\n",
      "Reward/MeanReward         5.300873279571533\n",
      "Reward/StdReward          5.062549591064453\n",
      "------------------------  --------------------------------------------------------------------------------------------------------------------------\n",
      "2023-05-02 14:59:55 | [SOURCE] epoch #2500 | log param_of_interest post after training: 0.21024149656295776\n",
      "2023-05-02 14:59:55 | [SOURCE] epoch #2500 | Total time 2518.51 s\n",
      "2023-05-02 14:59:55 | [SOURCE] epoch #2500 | Epoch time 1.01 s\n",
      "------------------------  -----------------------------------------------------------------------------------------------------------------------------\n",
      "Design/MeanDesign         [0.3654899001121521, 0.1632726788520813, 0.10507708787918091, 0.0816025584936142, 0.2506571114063263, 0.4933338761329651]\n",
      "Design/StdDesign          [0.29413479566574097, 0.1816430240869522, 0.06905399262905121, 0.17213092744350433, 0.20662939548492432, 0.31077373027801514]\n",
      "Epoch                     2500\n",
      "ReplayBuffer/buffer_size  1000000\n",
      "Reward/MeanReward         2.956786870956421\n",
      "Reward/StdReward          6.093204975128174\n",
      "------------------------  -----------------------------------------------------------------------------------------------------------------------------\n",
      "2023-05-02 15:01:35 | [SOURCE] epoch #2600 | log param_of_interest post after training: 3.7507073879241943\n",
      "2023-05-02 15:01:36 | [SOURCE] epoch #2600 | Total time 2618.91 s\n",
      "2023-05-02 15:01:36 | [SOURCE] epoch #2600 | Epoch time 1.01 s\n",
      "------------------------  ------------------------------------------------------------------------------------------------------------------------------\n",
      "Design/MeanDesign         [0.22997967898845673, 0.12215957045555115, 0.09763459116220474, 0.07887646555900574, 0.22099684178829193, 0.3487198054790497]\n",
      "Design/StdDesign          [0.21309952437877655, 0.12874527275562286, 0.06378311663866043, 0.15696246922016144, 0.15887117385864258, 0.26231130957603455]\n",
      "Epoch                     2600\n",
      "ReplayBuffer/buffer_size  1000000\n",
      "Reward/MeanReward         5.689047813415527\n",
      "Reward/StdReward          3.792268753051758\n",
      "------------------------  ------------------------------------------------------------------------------------------------------------------------------\n",
      "2023-05-02 15:03:16 | [SOURCE] epoch #2700 | log param_of_interest post after training: 4.810831546783447\n",
      "2023-05-02 15:03:16 | [SOURCE] epoch #2700 | Total time 2719.32 s\n",
      "2023-05-02 15:03:16 | [SOURCE] epoch #2700 | Epoch time 1.00 s\n",
      "------------------------  ------------------------------------------------------------------------------------------------------------------------------\n",
      "Design/MeanDesign         [0.37853530049324036, 0.1684325784444809, 0.09064862132072449, 0.08291634172201157, 0.2766915559768677, 0.5256500840187073]\n",
      "Design/StdDesign          [0.28866761922836304, 0.17572209239006042, 0.05905934050679207, 0.16688793897628784, 0.22023212909698486, 0.30539101362228394]\n",
      "Epoch                     2700\n",
      "ReplayBuffer/buffer_size  1000000\n",
      "Reward/MeanReward         6.604092121124268\n",
      "Reward/StdReward          5.119257926940918\n",
      "------------------------  ------------------------------------------------------------------------------------------------------------------------------\n",
      "2023-05-02 15:04:56 | [SOURCE] epoch #2800 | log param_of_interest post after training: 4.2622904777526855\n",
      "2023-05-02 15:04:57 | [SOURCE] epoch #2800 | Total time 2819.89 s\n",
      "2023-05-02 15:04:57 | [SOURCE] epoch #2800 | Epoch time 1.00 s\n",
      "------------------------  ----------------------------------------------------------------------------------------------------------------------------\n",
      "Design/MeanDesign         [0.569913923740387, 0.2889063358306885, 0.12017621845006943, 0.09610974043607712, 0.4592035114765167, 0.7228480577468872]\n",
      "Design/StdDesign          [0.33297377824783325, 0.28109508752822876, 0.07827278971672058, 0.192063570022583, 0.34429433941841125, 0.30986085534095764]\n",
      "Epoch                     2800\n",
      "ReplayBuffer/buffer_size  1000000\n",
      "Reward/MeanReward         5.3279523849487305\n",
      "Reward/StdReward          4.475856781005859\n",
      "------------------------  ----------------------------------------------------------------------------------------------------------------------------\n",
      "2023-05-02 15:06:37 | [SOURCE] epoch #2900 | log param_of_interest post after training: 4.497543811798096\n",
      "2023-05-02 15:06:37 | [SOURCE] epoch #2900 | Total time 2920.46 s\n",
      "2023-05-02 15:06:37 | [SOURCE] epoch #2900 | Epoch time 1.01 s\n",
      "------------------------  ----------------------------------------------------------------------------------------------------------------------------\n",
      "Design/MeanDesign         [0.4402715563774109, 0.15256725251674652, 0.14071646332740784, 0.11756042391061783, 0.41206374764442444, 0.5372183322906494]\n",
      "Design/StdDesign          [0.3317955434322357, 0.1771460473537445, 0.1127450242638588, 0.20303089916706085, 0.3273753523826599, 0.34987467527389526]\n",
      "Epoch                     2900\n",
      "ReplayBuffer/buffer_size  1000000\n",
      "Reward/MeanReward         5.928697109222412\n",
      "Reward/StdReward          5.320643901824951\n",
      "------------------------  ----------------------------------------------------------------------------------------------------------------------------\n",
      "2023-05-02 15:08:18 | [SOURCE] epoch #3000 | log param_of_interest post after training: 3.9940476417541504\n",
      "2023-05-02 15:08:18 | [SOURCE] epoch #3000 | Checkpoint saved\n",
      "2023-05-02 15:08:18 | [SOURCE] epoch #3000 | Total time 3021.54 s\n",
      "2023-05-02 15:08:18 | [SOURCE] epoch #3000 | Epoch time 1.53 s\n",
      "------------------------  ------------------------------------------------------------------------------------------------------------------------------\n",
      "Design/MeanDesign         [0.40323740243911743, 0.14959481358528137, 0.15035322308540344, 0.13312625885009766, 0.37872228026390076, 0.46625927090644836]\n",
      "Design/StdDesign          [0.323731005191803, 0.1740015298128128, 0.14956218004226685, 0.2106366902589798, 0.31719323992729187, 0.35163649916648865]\n",
      "Epoch                     3000\n",
      "ReplayBuffer/buffer_size  1000000\n",
      "Reward/MeanReward         6.84434700012207\n",
      "Reward/StdReward          4.796809196472168\n",
      "------------------------  ------------------------------------------------------------------------------------------------------------------------------\n",
      "2023-05-02 15:09:59 | [SOURCE] epoch #3100 | log param_of_interest post after training: 4.86923360824585\n",
      "2023-05-02 15:09:59 | [SOURCE] epoch #3100 | Total time 3122.10 s\n",
      "2023-05-02 15:09:59 | [SOURCE] epoch #3100 | Epoch time 1.01 s\n",
      "------------------------  ---------------------------------------------------------------------------------------------------------------------------\n",
      "Design/MeanDesign         [0.44179314374923706, 0.17999854683876038, 0.168206587433815, 0.12813745439052582, 0.29691430926322937, 0.4061706066131592]\n",
      "Design/StdDesign          [0.33177605271339417, 0.21302659809589386, 0.1749444454908371, 0.2133094221353531, 0.2721233367919922, 0.33234336972236633]\n",
      "Epoch                     3100\n",
      "ReplayBuffer/buffer_size  1000000\n",
      "Reward/MeanReward         6.719196319580078\n",
      "Reward/StdReward          5.06972074508667\n",
      "------------------------  ---------------------------------------------------------------------------------------------------------------------------\n",
      "2023-05-02 15:11:39 | [SOURCE] epoch #3200 | log param_of_interest post after training: 4.789803504943848\n",
      "2023-05-02 15:11:39 | [SOURCE] epoch #3200 | Total time 3222.45 s\n",
      "2023-05-02 15:11:39 | [SOURCE] epoch #3200 | Epoch time 1.00 s\n",
      "------------------------  ----------------------------------------------------------------------------------------------------------------------------\n",
      "Design/MeanDesign         [0.3426704406738281, 0.08995988219976425, 0.04200441762804985, 0.12375195324420929, 0.1914982795715332, 0.4476163983345032]\n",
      "Design/StdDesign          [0.31150898337364197, 0.1016048789024353, 0.04174273833632469, 0.20674185454845428, 0.24140581488609314, 0.3535136878490448]\n",
      "Epoch                     3200\n",
      "ReplayBuffer/buffer_size  1000000\n",
      "Reward/MeanReward         6.229358673095703\n",
      "Reward/StdReward          4.942626476287842\n",
      "------------------------  ----------------------------------------------------------------------------------------------------------------------------\n",
      "2023-05-02 15:13:20 | [SOURCE] epoch #3300 | log param_of_interest post after training: 5.165643215179443\n",
      "2023-05-02 15:13:20 | [SOURCE] epoch #3300 | Total time 3322.97 s\n",
      "2023-05-02 15:13:20 | [SOURCE] epoch #3300 | Epoch time 1.00 s\n",
      "------------------------  -----------------------------------------------------------------------------------------------------------------------------\n",
      "Design/MeanDesign         [0.19887207448482513, 0.05477078631520271, 0.03172596916556358, 0.1857653111219406, 0.20677220821380615, 0.38811662793159485]\n",
      "Design/StdDesign          [0.2218727022409439, 0.06896979361772537, 0.03814604505896568, 0.28434452414512634, 0.2889334559440613, 0.3681199550628662]\n",
      "Epoch                     3300\n",
      "ReplayBuffer/buffer_size  1000000\n",
      "Reward/MeanReward         5.4513773918151855\n",
      "Reward/StdReward          4.771456241607666\n",
      "------------------------  -----------------------------------------------------------------------------------------------------------------------------\n",
      "2023-05-02 15:16:41 | [SOURCE] epoch #3500 | log param_of_interest post after training: 3.870244026184082\n",
      "2023-05-02 15:16:41 | [SOURCE] epoch #3500 | Total time 3524.27 s\n",
      "2023-05-02 15:16:41 | [SOURCE] epoch #3500 | Epoch time 1.01 s\n",
      "------------------------  -----------------------------------------------------------------------------------------------------------------------------\n",
      "Design/MeanDesign         [0.39748045802116394, 0.0459972508251667, 0.03938677906990051, 0.10644105821847916, 0.1649593859910965, 0.48367607593536377]\n",
      "Design/StdDesign          [0.313341349363327, 0.057434648275375366, 0.048808347433805466, 0.18857720494270325, 0.21698610484600067, 0.3618724048137665]\n",
      "Epoch                     3500\n",
      "ReplayBuffer/buffer_size  1000000\n",
      "Reward/MeanReward         6.431443691253662\n",
      "Reward/StdReward          4.7820234298706055\n",
      "------------------------  -----------------------------------------------------------------------------------------------------------------------------\n",
      "2023-05-02 15:18:22 | [SOURCE] epoch #3600 | log param_of_interest post after training: 4.995506763458252\n",
      "2023-05-02 15:18:22 | [SOURCE] epoch #3600 | Total time 3625.15 s\n",
      "2023-05-02 15:18:22 | [SOURCE] epoch #3600 | Epoch time 1.01 s\n",
      "------------------------  -----------------------------------------------------------------------------------------------------------------------------\n",
      "Design/MeanDesign         [0.6026490926742554, 0.041031863540410995, 0.041167136281728745, 0.1127253845334053, 0.24127615988254547, 0.5102984309196472]\n",
      "Design/StdDesign          [0.3271627128124237, 0.05579095706343651, 0.05578203499317169, 0.19508807361125946, 0.2745636999607086, 0.3671424984931946]\n",
      "Epoch                     3600\n",
      "ReplayBuffer/buffer_size  1000000\n",
      "Reward/MeanReward         6.304118633270264\n",
      "Reward/StdReward          5.088369369506836\n",
      "------------------------  -----------------------------------------------------------------------------------------------------------------------------\n",
      "2023-05-02 15:20:02 | [SOURCE] epoch #3700 | log param_of_interest post after training: 4.211850643157959\n",
      "2023-05-02 15:20:03 | [SOURCE] epoch #3700 | Total time 3725.92 s\n",
      "2023-05-02 15:20:03 | [SOURCE] epoch #3700 | Epoch time 1.01 s\n",
      "------------------------  -----------------------------------------------------------------------------------------------------------------------------\n",
      "Design/MeanDesign         [0.5257433652877808, 0.03340243548154831, 0.04191095754504204, 0.13690826296806335, 0.2635382115840912, 0.439536988735199]\n",
      "Design/StdDesign          [0.32801979780197144, 0.057428378611803055, 0.06159065291285515, 0.22515186667442322, 0.2881391644477844, 0.3830070495605469]\n",
      "Epoch                     3700\n",
      "ReplayBuffer/buffer_size  1000000\n",
      "Reward/MeanReward         5.7833251953125\n",
      "Reward/StdReward          4.843184471130371\n",
      "------------------------  -----------------------------------------------------------------------------------------------------------------------------\n",
      "2023-05-02 15:21:43 | [SOURCE] epoch #3800 | log param_of_interest post after training: 4.909145832061768\n",
      "2023-05-02 15:21:44 | [SOURCE] epoch #3800 | Total time 3826.84 s\n",
      "2023-05-02 15:21:44 | [SOURCE] epoch #3800 | Epoch time 1.01 s\n",
      "------------------------  -------------------------------------------------------------------------------------------------------------------------------\n",
      "Design/MeanDesign         [0.40731704235076904, 0.033047426491975784, 0.03945128992199898, 0.09480401873588562, 0.11693626642227173, 0.23773632943630219]\n",
      "Design/StdDesign          [0.3191918730735779, 0.05271763727068901, 0.052702464163303375, 0.18416057527065277, 0.17804959416389465, 0.3132271468639374]\n",
      "Epoch                     3800\n",
      "ReplayBuffer/buffer_size  1000000\n",
      "Reward/MeanReward         6.118607997894287\n",
      "Reward/StdReward          4.460516452789307\n",
      "------------------------  -------------------------------------------------------------------------------------------------------------------------------\n",
      "2023-05-02 15:23:24 | [SOURCE] epoch #3900 | log param_of_interest post after training: 5.412464141845703\n",
      "2023-05-02 15:23:24 | [SOURCE] epoch #3900 | Total time 3927.64 s\n",
      "2023-05-02 15:23:24 | [SOURCE] epoch #3900 | Epoch time 1.01 s\n",
      "------------------------  -----------------------------------------------------------------------------------------------------------------------------\n",
      "Design/MeanDesign         [0.36051639914512634, 0.06239230930805206, 0.04113677889108658, 0.09346876293420792, 0.1272277534008026, 0.30004653334617615]\n",
      "Design/StdDesign          [0.34599003195762634, 0.07957115769386292, 0.05754246935248375, 0.19862528145313263, 0.18834692239761353, 0.3487309515476227]\n",
      "Epoch                     3900\n",
      "ReplayBuffer/buffer_size  1000000\n",
      "Reward/MeanReward         7.2105631828308105\n",
      "Reward/StdReward          5.6546173095703125\n",
      "------------------------  -----------------------------------------------------------------------------------------------------------------------------\n",
      "2023-05-02 15:25:05 | [SOURCE] epoch #4000 | log param_of_interest post after training: 5.669933319091797\n",
      "2023-05-02 15:25:06 | [SOURCE] epoch #4000 | Checkpoint saved\n",
      "2023-05-02 15:25:06 | [SOURCE] epoch #4000 | Total time 4029.04 s\n",
      "2023-05-02 15:25:06 | [SOURCE] epoch #4000 | Epoch time 1.52 s\n",
      "------------------------  -----------------------------------------------------------------------------------------------------------------------------\n",
      "Design/MeanDesign         [0.3363739848136902, 0.1021466925740242, 0.04748619347810745, 0.09241753816604614, 0.14607422053813934, 0.26315054297447205]\n",
      "Design/StdDesign          [0.34040942788124084, 0.13785070180892944, 0.06135617569088936, 0.20061823725700378, 0.20181383192539215, 0.3357829451560974]\n",
      "Epoch                     4000\n",
      "ReplayBuffer/buffer_size  1000000\n",
      "Reward/MeanReward         7.306034088134766\n",
      "Reward/StdReward          5.2041707038879395\n",
      "------------------------  -----------------------------------------------------------------------------------------------------------------------------\n",
      "2023-05-02 15:26:46 | [SOURCE] epoch #4100 | log param_of_interest post after training: 5.705190658569336\n",
      "2023-05-02 15:26:47 | [SOURCE] epoch #4100 | Total time 4129.79 s\n",
      "2023-05-02 15:26:47 | [SOURCE] epoch #4100 | Epoch time 1.01 s\n",
      "------------------------  ----------------------------------------------------------------------------------------------------------------------------\n",
      "Design/MeanDesign         [0.4976251721382141, 0.1592327058315277, 0.054038889706134796, 0.10799112170934677, 0.22556212544441223, 0.3839220404624939]\n",
      "Design/StdDesign          [0.376080185174942, 0.189553901553154, 0.0714547336101532, 0.2259490191936493, 0.2614519000053406, 0.3725202977657318]\n",
      "Epoch                     4100\n",
      "ReplayBuffer/buffer_size  1000000\n",
      "Reward/MeanReward         7.329527378082275\n",
      "Reward/StdReward          5.317773818969727\n",
      "------------------------  ----------------------------------------------------------------------------------------------------------------------------\n",
      "2023-05-02 15:28:27 | [SOURCE] epoch #4200 | log param_of_interest post after training: 5.832575798034668\n",
      "2023-05-02 15:28:28 | [SOURCE] epoch #4200 | Total time 4230.84 s\n",
      "2023-05-02 15:28:28 | [SOURCE] epoch #4200 | Epoch time 1.01 s\n",
      "------------------------  ----------------------------------------------------------------------------------------------------------------------------\n",
      "Design/MeanDesign         [0.40515342354774475, 0.11518853157758713, 0.0618942566215992, 0.10103967785835266, 0.2328401803970337, 0.31508520245552063]\n",
      "Design/StdDesign          [0.37308910489082336, 0.11061642318964005, 0.08706265687942505, 0.21421240270137787, 0.2665667235851288, 0.3577188551425934]\n",
      "Epoch                     4200\n",
      "ReplayBuffer/buffer_size  1000000\n",
      "Reward/MeanReward         7.6080169677734375\n",
      "Reward/StdReward          5.513876914978027\n",
      "------------------------  ----------------------------------------------------------------------------------------------------------------------------\n",
      "2023-05-02 15:30:08 | [SOURCE] epoch #4300 | log param_of_interest post after training: 6.124534606933594\n",
      "2023-05-02 15:30:08 | [SOURCE] epoch #4300 | Total time 4331.45 s\n",
      "2023-05-02 15:30:08 | [SOURCE] epoch #4300 | Epoch time 1.00 s\n",
      "------------------------  ----------------------------------------------------------------------------------------------------------------------------\n",
      "Design/MeanDesign         [0.3668844997882843, 0.14561665058135986, 0.06544701009988785, 0.10414107143878937, 0.2324322760105133, 0.32608965039253235]\n",
      "Design/StdDesign          [0.3597291111946106, 0.12067431211471558, 0.1022488996386528, 0.22069652378559113, 0.27763524651527405, 0.3560006320476532]\n",
      "Epoch                     4300\n",
      "ReplayBuffer/buffer_size  1000000\n",
      "Reward/MeanReward         7.4894514083862305\n",
      "Reward/StdReward          6.565992832183838\n",
      "------------------------  ----------------------------------------------------------------------------------------------------------------------------\n",
      "2023-05-02 15:31:48 | [SOURCE] epoch #4400 | log param_of_interest post after training: 5.980795383453369\n",
      "2023-05-02 15:31:48 | [SOURCE] epoch #4400 | Total time 4431.66 s\n",
      "2023-05-02 15:31:48 | [SOURCE] epoch #4400 | Epoch time 1.00 s\n",
      "------------------------  --------------------------------------------------------------------------------------------------------------------------\n",
      "Design/MeanDesign         [0.37845322489738464, 0.11147865653038025, 0.198130801320076, 0.1410534828901291, 0.2348014861345291, 0.25730428099632263]\n",
      "Design/StdDesign          [0.3733005225658417, 0.10577362030744553, 0.2713107764720917, 0.27438846230506897, 0.30197960138320923, 0.344037801027298]\n",
      "Epoch                     4400\n",
      "ReplayBuffer/buffer_size  1000000\n",
      "Reward/MeanReward         6.014835357666016\n",
      "Reward/StdReward          5.006246089935303\n",
      "------------------------  --------------------------------------------------------------------------------------------------------------------------\n",
      "2023-05-02 15:33:29 | [SOURCE] epoch #4500 | log param_of_interest post after training: 5.632824897766113\n",
      "2023-05-02 15:33:29 | [SOURCE] epoch #4500 | Total time 4532.22 s\n",
      "2023-05-02 15:33:29 | [SOURCE] epoch #4500 | Epoch time 1.00 s\n",
      "------------------------  ----------------------------------------------------------------------------------------------------------------------------\n",
      "Design/MeanDesign         [0.4893500804901123, 0.35298603773117065, 0.1277751922607422, 0.08244247734546661, 0.1409795731306076, 0.3284459710121155]\n",
      "Design/StdDesign          [0.40099969506263733, 0.32396575808525085, 0.19216544926166534, 0.1794944405555725, 0.21906457841396332, 0.3563286364078522]\n",
      "Epoch                     4500\n",
      "ReplayBuffer/buffer_size  1000000\n",
      "Reward/MeanReward         5.55481481552124\n",
      "Reward/StdReward          5.186221122741699\n",
      "------------------------  ----------------------------------------------------------------------------------------------------------------------------\n",
      "2023-05-02 15:35:09 | [SOURCE] epoch #4600 | log param_of_interest post after training: 6.10316276550293\n",
      "2023-05-02 15:35:09 | [SOURCE] epoch #4600 | Total time 4632.45 s\n",
      "2023-05-02 15:35:09 | [SOURCE] epoch #4600 | Epoch time 1.00 s\n",
      "------------------------  ------------------------------------------------------------------------------------------------------------------------------\n",
      "Design/MeanDesign         [0.4210908114910126, 0.1647626906633377, 0.12146313488483429, 0.06595178693532944, 0.10237064212560654, 0.23292382061481476]\n",
      "Design/StdDesign          [0.39014530181884766, 0.22290068864822388, 0.20296120643615723, 0.16570019721984863, 0.17806918919086456, 0.31347399950027466]\n",
      "Epoch                     4600\n",
      "ReplayBuffer/buffer_size  1000000\n",
      "Reward/MeanReward         7.114619731903076\n",
      "Reward/StdReward          5.662871837615967\n",
      "------------------------  ------------------------------------------------------------------------------------------------------------------------------\n",
      "2023-05-02 15:36:49 | [SOURCE] epoch #4700 | log param_of_interest post after training: 5.58756160736084\n",
      "2023-05-02 15:36:50 | [SOURCE] epoch #4700 | Total time 4732.82 s\n",
      "2023-05-02 15:36:50 | [SOURCE] epoch #4700 | Epoch time 1.00 s\n",
      "------------------------  ------------------------------------------------------------------------------------------------------------------------------\n",
      "Design/MeanDesign         [0.31302520632743835, 0.0467291995882988, 0.03798680379986763, 0.05690056085586548, 0.08838903903961182, 0.10393190383911133]\n",
      "Design/StdDesign          [0.3355134129524231, 0.05293061211705208, 0.051390696316957474, 0.14979659020900726, 0.15196099877357483, 0.17058104276657104]\n",
      "Epoch                     4700\n",
      "ReplayBuffer/buffer_size  1000000\n",
      "Reward/MeanReward         7.048044681549072\n",
      "Reward/StdReward          5.306591033935547\n",
      "------------------------  ------------------------------------------------------------------------------------------------------------------------------\n",
      "2023-05-02 15:38:30 | [SOURCE] epoch #4800 | log param_of_interest post after training: 6.1528730392456055\n",
      "2023-05-02 15:38:30 | [SOURCE] epoch #4800 | Total time 4833.23 s\n",
      "2023-05-02 15:38:30 | [SOURCE] epoch #4800 | Epoch time 1.01 s\n",
      "------------------------  -------------------------------------------------------------------------------------------------------------------------------\n",
      "Design/MeanDesign         [0.5803833603858948, 0.04848625510931015, 0.04292408376932144, 0.06422434002161026, 0.09377056360244751, 0.1828892081975937]\n",
      "Design/StdDesign          [0.37849530577659607, 0.057328738272190094, 0.057960186153650284, 0.16429218649864197, 0.17280781269073486, 0.2510072588920593]\n",
      "Epoch                     4800\n",
      "ReplayBuffer/buffer_size  1000000\n",
      "Reward/MeanReward         7.501615524291992\n",
      "Reward/StdReward          6.2543721199035645\n",
      "------------------------  -------------------------------------------------------------------------------------------------------------------------------\n",
      "2023-05-02 15:40:10 | [SOURCE] epoch #4900 | log param_of_interest post after training: 5.825005531311035\n",
      "2023-05-02 15:40:10 | [SOURCE] epoch #4900 | Total time 4933.55 s\n",
      "2023-05-02 15:40:10 | [SOURCE] epoch #4900 | Epoch time 1.00 s\n",
      "------------------------  ------------------------------------------------------------------------------------------------------------------------------\n",
      "Design/MeanDesign         [0.46146443486213684, 0.045849207788705826, 0.05397246032953262, 0.0671963021159172, 0.09239120781421661, 0.07543200254440308]\n",
      "Design/StdDesign          [0.3636397421360016, 0.056932754814624786, 0.06591726839542389, 0.16658398509025574, 0.16931791603565216, 0.138290673494339]\n",
      "Epoch                     4900\n",
      "ReplayBuffer/buffer_size  1000000\n",
      "Reward/MeanReward         6.9439311027526855\n",
      "Reward/StdReward          5.528475761413574\n",
      "------------------------  ------------------------------------------------------------------------------------------------------------------------------\n",
      "2023-05-02 15:41:51 | [SOURCE] epoch #5000 | log param_of_interest post after training: 5.737546920776367\n",
      "2023-05-02 15:41:51 | [SOURCE] epoch #5000 | Checkpoint saved\n",
      "2023-05-02 15:41:51 | [SOURCE] epoch #5000 | Total time 5034.56 s\n",
      "2023-05-02 15:41:51 | [SOURCE] epoch #5000 | Epoch time 1.51 s\n",
      "------------------------  ------------------------------------------------------------------------------------------------------------------------------\n",
      "Design/MeanDesign         [0.4889602065086365, 0.052359770983457565, 0.07294441014528275, 0.07281845808029175, 0.08306629210710526, 0.07927818596363068]\n",
      "Design/StdDesign          [0.3594118058681488, 0.05923096090555191, 0.0810006782412529, 0.16893893480300903, 0.15155519545078278, 0.1388930082321167]\n",
      "Epoch                     5000\n",
      "ReplayBuffer/buffer_size  1000000\n",
      "Reward/MeanReward         6.876093864440918\n",
      "Reward/StdReward          5.176884174346924\n",
      "------------------------  ------------------------------------------------------------------------------------------------------------------------------\n"
     ]
    }
   ],
   "source": [
    "try:\n",
    "    for _ in range(100):\n",
    "        dowel.logger.pop_prefix()\n",
    "except:\n",
    "    pass\n",
    "dowel.logger.push_prefix('[SOURCE] ')\n",
    "vsoed.train(**vsoed_train_params)"
   ]
  },
  {
   "cell_type": "code",
   "execution_count": null,
   "id": "1b3ea46a-2dcf-45f3-9328-f7b8cb07a48a",
   "metadata": {},
   "outputs": [],
   "source": [
    "plt.figure(figsize=(10, 4))\n",
    "plt.plot(vsoed.update_hist[:])\n",
    "plt.xlabel('update', fontsize=20)\n",
    "plt.ylabel('averaged reward', fontsize=20)\n",
    "plt.xticks(fontsize=15)\n",
    "plt.yticks(fontsize=15)\n",
    "plt.grid(linestyle='--')"
   ]
  },
  {
   "cell_type": "code",
   "execution_count": null,
   "id": "3493829d-c4cd-4589-88cc-e9e6c39b85c1",
   "metadata": {
    "scrolled": true,
    "tags": []
   },
   "outputs": [],
   "source": [
    "set_random_seed(EVAL_SEEDS[0])\n",
    "ret = vsoed.asses(2000, use_PCE_incre=True, n_contrastive_sample=int(1e6), return_all=True)\n",
    "averaged_reward = ret['averaged_reward']\n",
    "params = ret['params']\n",
    "ds_hist = ret['ds_hist']\n",
    "ys_hist = ret['ys_hist']\n",
    "rewards_hist = ret['rewards_hist']\n",
    "averaged_reward"
   ]
  },
  {
   "cell_type": "code",
   "execution_count": null,
   "id": "a44a2363-5c70-4d9f-9615-e5669fec634f",
   "metadata": {},
   "outputs": [],
   "source": []
  },
  {
   "cell_type": "code",
   "execution_count": 28,
   "id": "588f1edb-826b-49ac-a3dc-ea6892e9448a",
   "metadata": {},
   "outputs": [
    {
     "data": {
      "text/plain": [
       "tensor(41.1742, device='cuda:0')"
      ]
     },
     "execution_count": 28,
     "metadata": {},
     "output_type": "execute_result"
    }
   ],
   "source": [
    "vsoed.rewards_hist[~torch.isnan(vsoed.rewards_hist)].max()"
   ]
  },
  {
   "cell_type": "code",
   "execution_count": 29,
   "id": "62e0faea-01c5-4de5-8421-08a536bc1291",
   "metadata": {},
   "outputs": [],
   "source": [
    "a = torch.rand(100000, 100)\n",
    "b = torch.rand(100000, 100)"
   ]
  },
  {
   "cell_type": "code",
   "execution_count": 33,
   "id": "cb680880-1d0d-46e7-be74-226552cfea15",
   "metadata": {},
   "outputs": [
    {
     "name": "stdout",
     "output_type": "stream",
     "text": [
      "249 µs ± 22.1 ns per loop (mean ± std. dev. of 7 runs, 10000 loops each)\n"
     ]
    }
   ],
   "source": [
    "%%timeit \n",
    "torch.hstack([a, b])"
   ]
  },
  {
   "cell_type": "code",
   "execution_count": 34,
   "id": "fb315a8b-0a23-4d32-adf5-304e83dd8c8e",
   "metadata": {},
   "outputs": [
    {
     "name": "stdout",
     "output_type": "stream",
     "text": [
      "249 µs ± 17.1 ns per loop (mean ± std. dev. of 7 runs, 10000 loops each)\n"
     ]
    }
   ],
   "source": [
    "%%timeit \n",
    "torch.cat([a, b], dim=1)"
   ]
  },
  {
   "cell_type": "code",
   "execution_count": 36,
   "id": "4814ad33-4428-4d48-8a2c-7fcd088fb116",
   "metadata": {},
   "outputs": [
    {
     "name": "stdout",
     "output_type": "stream",
     "text": [
      "362 µs ± 20.4 ns per loop (mean ± std. dev. of 7 runs, 1000 loops each)\n"
     ]
    }
   ],
   "source": [
    "%%timeit\n",
    "c = torch.zeros(100000, 200)\n",
    "c[:, :100] = a\n",
    "c[:, 100:] = b"
   ]
  },
  {
   "cell_type": "code",
   "execution_count": 41,
   "id": "7c8f888d-4574-4a57-9a67-988eb273458b",
   "metadata": {},
   "outputs": [
    {
     "name": "stdout",
     "output_type": "stream",
     "text": [
      "126 ns ± 0.0266 ns per loop (mean ± std. dev. of 7 runs, 10000000 loops each)\n"
     ]
    }
   ],
   "source": [
    "%%timeit\n",
    "math.log(1e-27)"
   ]
  },
  {
   "cell_type": "code",
   "execution_count": 42,
   "id": "1fc92fba-0e03-4ef1-89ef-fccf65b9bdc2",
   "metadata": {},
   "outputs": [
    {
     "name": "stdout",
     "output_type": "stream",
     "text": [
      "32.1 µs ± 48.6 ns per loop (mean ± std. dev. of 7 runs, 10000 loops each)\n"
     ]
    }
   ],
   "source": [
    "%%timeit\n",
    "torch.log(torch.tensor(1e-27))"
   ]
  },
  {
   "cell_type": "code",
   "execution_count": null,
   "id": "7ee39cfe-f215-4d16-9450-05e48ca38da9",
   "metadata": {},
   "outputs": [],
   "source": []
  },
  {
   "cell_type": "code",
   "execution_count": 129,
   "id": "ef107230-0ff1-4c15-ba44-7211d26298e5",
   "metadata": {},
   "outputs": [
    {
     "data": {
      "text/plain": [
       "9.131694793701172"
      ]
     },
     "execution_count": 129,
     "metadata": {},
     "output_type": "execute_result"
    }
   ],
   "source": [
    "averaged_reward"
   ]
  },
  {
   "cell_type": "code",
   "execution_count": 117,
   "id": "30d7c521-bb2b-4871-a8b7-974b56b92fbb",
   "metadata": {},
   "outputs": [
    {
     "data": {
      "text/plain": [
       "tensor(22026.4668, device='cuda:0')"
      ]
     },
     "execution_count": 117,
     "metadata": {},
     "output_type": "execute_result"
    }
   ],
   "source": [
    "torch."
   ]
  },
  {
   "cell_type": "code",
   "execution_count": 124,
   "id": "fc0d9c5a-6779-48a7-8024-b277c37dd164",
   "metadata": {},
   "outputs": [
    {
     "data": {
      "text/plain": [
       "tensor([12.8075, 12.8097, 12.9265, 12.6681, 12.8283, 12.9270, 12.6145, 12.7931,\n",
       "        12.8640, 12.9860, 12.7083, 12.8731, 12.9903, 12.8869, 12.8719, 12.6418,\n",
       "        12.6884, 12.7964, 12.9192, 12.9209, 12.9399, 12.6670, 12.8244, 12.9630,\n",
       "        12.9598, 12.7226, 12.6308, 12.6758, 12.8094, 12.7400, 12.9320, 12.8075,\n",
       "        12.9214, 12.9046, 12.8745, 12.7721, 12.8292, 12.8966, 12.8324, 12.8588,\n",
       "        12.8818, 12.7865, 12.9365, 12.6977, 12.9184, 12.9007, 12.8528, 12.9425,\n",
       "        12.8968, 12.8776, 12.9317, 12.8635, 12.8957, 12.7419, 12.7541, 12.7679,\n",
       "        12.9049, 12.8832, 13.0192, 12.8427, 12.9062, 12.7970, 12.8341, 12.6946,\n",
       "        12.7965, 12.9466, 12.9698, 12.7751, 12.9005, 12.8335, 12.8252, 12.7737,\n",
       "        12.8508, 12.7395, 12.6460, 12.7510, 12.7767, 13.0215, 12.7439, 12.8396,\n",
       "        12.8380, 12.8863, 12.9624, 12.7878, 12.8541, 12.8827, 12.8109, 12.6559,\n",
       "        12.7579, 12.8063, 12.9694, 12.8261, 12.8377, 12.6966, 12.7231, 12.7703,\n",
       "        12.6775, 12.8204, 12.7683, 12.9007, 12.6942, 12.7648, 12.7813, 13.0083,\n",
       "        12.9667, 12.8865, 12.8857, 12.8138, 12.8081, 12.7927, 12.8692, 12.6996,\n",
       "        12.8337, 12.7121, 12.9645, 12.5370, 12.9323, 12.8323, 12.8102, 12.8813,\n",
       "        12.8032, 12.9695, 12.8190, 12.8428, 13.0294, 12.7767, 12.9536, 12.9625,\n",
       "        12.9820, 12.8195, 12.8381, 12.7686, 12.7352, 12.9328, 12.8689, 12.9876,\n",
       "        12.8799, 12.9201, 12.9350, 12.8414, 12.8714, 12.7408, 12.8214, 12.9335,\n",
       "        12.9389, 12.7109, 12.7949, 12.8516, 12.8560, 12.8826, 12.8558, 12.6779,\n",
       "        12.8807, 12.8133, 12.7875, 12.9298, 12.8467, 12.7997, 12.6911, 12.8605,\n",
       "        12.8816, 12.7006, 12.8189, 12.7550, 12.7976, 12.9087, 12.8901, 12.9679,\n",
       "        12.7352, 12.7602, 12.8364, 12.7974, 12.9264, 12.8772, 12.9942, 12.8830,\n",
       "        12.8618, 12.7691, 12.8441, 12.9724, 12.8078, 12.7605, 13.0092, 12.7095,\n",
       "        12.9765, 12.7744, 13.0351, 12.6797, 12.8507, 12.8402, 12.9122, 12.8374,\n",
       "        12.8589, 12.9670, 12.9752, 12.8529, 12.8583, 12.7194, 12.7393, 12.8862,\n",
       "        12.8636, 12.8093, 12.7744, 12.9494, 12.5989, 12.7491, 12.8911, 12.8259,\n",
       "        12.8263, 12.8962, 12.9289, 12.7122, 12.8158, 12.7188, 12.7332, 12.8309,\n",
       "        12.8182, 12.8690, 12.8643, 13.0083, 12.9706, 12.6918, 12.8097, 12.9107,\n",
       "        12.8811, 12.8548, 12.7459, 12.5130, 12.8125, 12.8846, 12.8170, 12.8974,\n",
       "        12.8204, 12.8579, 12.7542, 12.8219, 12.8067, 12.7075, 12.7878, 12.9323,\n",
       "        12.8971, 12.8079, 12.7670, 13.0062, 12.6909, 12.8351, 12.7715, 12.8291,\n",
       "        12.8799, 12.8093, 12.8114, 12.9449, 12.8948, 12.7016, 13.0148, 12.8783,\n",
       "        12.7647, 12.9452, 12.9462, 12.9155, 12.9384, 12.8201, 12.8911, 12.7269,\n",
       "        12.8233, 12.9129, 12.7724, 12.9855, 12.7254, 12.9235, 12.8889, 12.7911,\n",
       "        12.7754, 12.9951, 12.8874, 12.7893, 12.8190, 12.8502, 12.8734, 12.9673,\n",
       "        12.7853, 12.9687, 12.9389, 12.8072, 12.6914, 12.8071, 12.8653, 12.8566,\n",
       "        12.7871, 12.8419, 12.8111, 12.9997, 12.6634, 12.6337, 12.8822, 12.9566,\n",
       "        12.8068, 12.9023, 12.9926, 12.9579, 12.8849, 12.8342, 12.8783, 13.0186,\n",
       "        12.8317, 12.9086, 12.8199, 12.7579, 12.8652, 12.9745, 12.8219, 12.8974,\n",
       "        12.7308, 12.7839, 12.9003, 12.9014, 12.8908, 12.7385, 12.9167, 12.7873,\n",
       "        12.7705, 12.8483, 12.8439, 12.8441, 12.8923, 12.8238, 12.7601, 12.6705,\n",
       "        12.8162, 12.8224, 12.8170, 12.9671, 12.9595, 12.8320, 12.8173, 12.9093,\n",
       "        12.9568, 12.7977, 12.8220, 12.8722, 12.8258, 12.7803, 12.8725, 12.9073,\n",
       "        12.7873, 12.8726, 12.9311, 12.8048, 12.8656, 12.7264, 12.7308, 12.9361,\n",
       "        12.7760, 12.9594, 13.0494, 12.7536, 12.9400, 12.7622, 12.6964, 12.9123,\n",
       "        12.8790, 12.6892, 12.7977, 12.9618, 12.7524, 12.9084, 12.8734, 12.8285,\n",
       "        12.7669, 12.8839, 12.9099, 12.8362, 12.8256, 12.7649, 12.8523, 12.8190,\n",
       "        12.8468, 12.6098, 12.9550, 12.8392, 12.7292, 12.9479, 12.9329, 12.7467,\n",
       "        12.8483, 12.8664, 12.8814, 12.7722, 12.8173, 12.7800, 12.8262, 12.7144,\n",
       "        12.8266, 12.7493, 12.7646, 12.9205, 12.8902, 12.7750, 12.8466, 12.8198,\n",
       "        12.7490, 12.9527, 12.8687, 12.8948, 13.0794, 12.8507, 12.9877, 12.9623,\n",
       "        12.8392, 12.8932, 12.7583, 12.8374, 12.8134, 12.8204, 13.0478, 12.8921,\n",
       "        12.7707, 12.7010, 12.7586, 12.7857, 12.7223, 12.9065, 12.6278, 12.8502,\n",
       "        12.8419, 12.8824, 12.8791, 13.0185, 12.8242, 12.9734, 12.9119, 12.7171,\n",
       "        12.9846, 12.8673, 12.7695, 12.9300, 12.7761, 12.8884, 12.9591, 12.8025,\n",
       "        12.8971, 12.9266, 12.9269, 12.9919, 12.7275, 12.8707, 12.8451, 12.7666,\n",
       "        12.7803, 12.9168, 12.6551, 12.7832, 12.7917, 12.9347, 12.7797, 12.9742,\n",
       "        12.8078, 13.0050, 12.8186, 12.9907, 12.5951, 12.8241, 12.9021, 12.9038,\n",
       "        12.7626, 12.9593, 12.9253, 12.9002, 12.8575, 12.8438, 12.9361, 12.8622,\n",
       "        12.8600, 12.8557, 12.9225, 12.6694, 12.9911, 12.9269, 12.6289, 12.8639,\n",
       "        12.7413, 12.9785, 12.8189, 12.7618, 12.8417, 12.7146, 12.7560, 12.9329,\n",
       "        12.8684, 12.8049, 12.9747, 12.8037, 12.8545, 12.6769, 12.8343, 12.7667,\n",
       "        12.7952, 13.0666, 12.6962, 12.9577, 12.8650, 12.8892, 12.8421, 12.7336,\n",
       "        12.7776, 12.7757, 12.8948, 12.9658, 12.7514, 12.9853, 12.6474, 13.0018,\n",
       "        12.7682, 12.7128, 12.8873, 12.7264, 12.9135, 12.8397, 12.8849, 12.8886,\n",
       "        12.6903, 12.9776, 12.9230, 12.9763, 12.6628, 12.7871, 12.5785, 12.9594,\n",
       "        12.7541, 12.7983, 12.8312, 12.6976, 12.8222, 12.8137, 12.9226, 12.9162,\n",
       "        12.9134, 12.7677, 12.6348, 12.9667, 12.8623, 12.7319, 12.8044, 12.7795,\n",
       "        12.8976, 12.7790, 12.7374, 12.9340, 12.9244, 12.9165, 12.8964, 12.8091,\n",
       "        12.7619, 12.8381, 12.8695, 12.6884, 12.9628, 12.8185, 12.7809, 12.8466,\n",
       "        12.7582, 12.6300, 12.7802, 12.9528, 12.8052, 12.8072, 12.8974, 12.7799,\n",
       "        12.9348, 12.9361, 12.7664, 12.8080, 12.8446, 13.0130, 12.6699, 12.9003,\n",
       "        12.8475, 12.7428, 12.9324, 12.8001, 12.7463, 12.8332, 12.7363, 12.8012,\n",
       "        12.7449, 12.8345, 12.9245, 12.7206, 12.8246, 12.7491, 12.7695, 12.7712,\n",
       "        12.6553, 12.7806, 13.0048, 12.8162, 12.7417, 12.7882, 12.9053, 12.5816,\n",
       "        12.7715, 12.8453, 12.7271, 12.7225, 12.9280, 12.8458, 12.8967, 12.8309,\n",
       "        12.9385, 12.8059, 12.8314, 12.9487, 12.7783, 12.7739, 12.8391, 12.8603,\n",
       "        12.6998, 12.8080, 12.8062, 12.9747, 12.8533, 12.8206, 12.9141, 12.9481,\n",
       "        12.9474, 12.7500, 12.8006, 12.8702, 12.8502, 12.8183, 12.9317, 12.9167,\n",
       "        12.8311, 12.8293, 12.8496, 12.8226, 12.8755, 12.7364, 12.9096, 12.6547,\n",
       "        12.7681, 12.9162, 12.8524, 12.8962, 12.7824, 12.8743, 12.8909, 12.6549,\n",
       "        12.9341, 12.8677, 12.8426, 12.8568, 12.9738, 12.6963, 12.8803, 12.8701,\n",
       "        12.8041, 12.9673, 12.8292, 12.8258, 12.7975, 12.9091, 12.8579, 12.9589,\n",
       "        12.7497, 12.7198, 12.8571, 12.7252, 12.7536, 12.7294, 12.7023, 12.8769,\n",
       "        12.8513, 12.8779, 12.8399, 12.8416, 12.9210, 12.8228, 12.9795, 12.9410,\n",
       "        12.7890, 12.7824, 12.8169, 12.7802, 12.8867, 12.9128, 12.7970, 12.8319,\n",
       "        12.9063, 12.8862, 12.8813, 13.0355, 12.9838, 12.8802, 12.8324, 12.9179,\n",
       "        12.8514, 12.7662, 12.8584, 12.7148, 12.7611, 12.7909, 12.8594, 12.6241,\n",
       "        12.7202, 13.0624, 12.8658, 12.8704, 12.9830, 12.8029, 12.7842, 12.7624,\n",
       "        12.7491, 12.7825, 12.8995, 12.8154, 12.8618, 12.8837, 12.7931, 12.7109,\n",
       "        12.7657, 12.8346, 12.9396, 12.7360, 12.7933, 12.9247, 12.8965, 12.9445,\n",
       "        12.8304, 12.9233, 12.9526, 12.8615, 12.9301, 12.8556, 12.9434, 12.8897,\n",
       "        12.8516, 12.9244, 12.8124, 12.9700, 12.7678, 12.7890, 12.9251, 12.7626,\n",
       "        12.9510, 12.7806, 13.0582, 12.8637, 12.8565, 12.7098, 12.9433, 12.8499,\n",
       "        12.7116, 12.8740, 12.7718, 12.6209, 12.8610, 12.8489, 12.9205, 12.7285,\n",
       "        12.9389, 12.7791, 12.8155, 12.8060, 12.9080, 12.8743, 12.9403, 13.0353,\n",
       "        12.8993, 12.9458, 12.7430, 12.9345, 12.8478, 12.8673, 12.8580, 12.8901,\n",
       "        12.8592, 12.9433, 12.6331, 12.7500, 12.7796, 12.9592, 12.9285, 12.8246,\n",
       "        12.8343, 12.8899, 12.8430, 12.7251, 12.7772, 12.8351, 12.7896, 12.8742,\n",
       "        12.7875, 12.8884, 12.8704, 12.7836, 12.8953, 12.8325, 12.7884, 12.7445,\n",
       "        12.8071, 12.7853, 12.8572, 12.7538, 12.6848, 12.8570, 12.8129, 13.0393,\n",
       "        12.7461, 12.8706, 12.8338, 12.6761, 12.7177, 12.9081, 12.8566, 12.8331,\n",
       "        12.8613, 12.9289, 12.7910, 12.8067, 12.9048, 12.7930, 12.8960, 12.7607,\n",
       "        12.7557, 12.7207, 12.6696, 12.8878, 12.8867, 12.7828, 12.8738, 12.8292,\n",
       "        12.6485, 12.7622, 12.8400, 12.7891, 12.7514, 12.9106, 12.7907, 12.7974,\n",
       "        12.8140, 12.7757, 12.7800, 12.9765, 12.9739, 12.8119, 12.6778, 12.8681,\n",
       "        12.7250, 12.7511, 12.7718, 12.8482, 12.8562, 12.8333, 12.8992, 12.6625,\n",
       "        12.6989, 12.9368, 12.8498, 12.6771, 12.8174, 12.8506, 12.8383, 12.9348,\n",
       "        12.8035, 12.8054, 12.7669, 12.8537, 12.7487, 12.6682, 12.8392, 12.7948,\n",
       "        12.6161, 12.7286, 12.8422, 12.8510, 12.9006, 12.8087, 12.8171, 12.8142,\n",
       "        12.8739, 12.8439, 12.9292, 12.8086, 12.8263, 12.7790, 12.8248, 12.7566,\n",
       "        12.9530, 12.8563, 12.9069, 12.6505, 12.8610, 12.8313, 12.8253, 12.9027,\n",
       "        12.7516, 12.7375, 12.8123, 12.7146, 12.7928, 12.9588, 12.7548, 12.8115,\n",
       "        12.8014, 12.9408, 12.7900, 12.8892, 12.7912, 12.7012, 12.8303, 12.8241,\n",
       "        12.9681, 12.8208, 12.8600, 12.8675, 12.8109, 12.5391, 12.8134, 12.8754,\n",
       "        12.9808, 12.9160, 12.8790, 12.8731, 12.9033, 12.7045, 12.8417, 12.8124,\n",
       "        12.9366, 12.8094, 12.9477, 12.8412, 12.8931, 12.8782, 12.8871, 12.8479,\n",
       "        12.7854, 12.9012, 12.8867, 12.6602, 12.9160, 12.7909, 12.9329, 12.8470,\n",
       "        13.0160, 12.7783, 12.7675, 12.7389, 12.8844, 12.7282, 12.8987, 12.6298,\n",
       "        12.8590, 12.9282, 12.7797, 12.8825, 12.9900, 12.9719, 12.7160, 12.9070,\n",
       "        12.7754, 12.8413, 12.7810, 12.9301, 12.7508, 12.7716, 12.8263, 12.8362,\n",
       "        12.9828, 12.9768, 12.8210, 12.9585, 12.7735, 12.8652, 12.7430, 12.8340,\n",
       "        12.7835, 12.8474, 12.9437, 12.7960, 12.9354, 12.8691, 13.0183, 12.7006,\n",
       "        12.7468, 12.9003, 12.8949, 12.9797, 12.8141, 13.0027, 12.9688, 12.8628,\n",
       "        12.9973, 12.7433, 12.7461, 12.7765, 13.0113, 12.8000, 12.8708, 12.9046],\n",
       "       device='cuda:0')"
      ]
     },
     "execution_count": 124,
     "metadata": {},
     "output_type": "execute_result"
    }
   ],
   "source": [
    "torch.logsumexp(torch.rand(1000, 10) + 10, -1)"
   ]
  },
  {
   "cell_type": "code",
   "execution_count": null,
   "id": "c1ee197c-205c-4b04-8cce-94af278b2c4b",
   "metadata": {},
   "outputs": [],
   "source": []
  },
  {
   "cell_type": "code",
   "execution_count": 108,
   "id": "c29ef930-0f77-4c1a-b335-dd0270de8b82",
   "metadata": {},
   "outputs": [
    {
     "data": {
      "text/plain": [
       "tensor([[ 6.9315e-01,  0.0000e+00,  0.0000e+00, -5.9605e-08,  0.0000e+00,\n",
       "         -5.9605e-08,  0.0000e+00,  0.0000e+00, -5.9605e-08,  0.0000e+00,\n",
       "          0.0000e+00],\n",
       "        [ 6.9315e-01,  1.1921e-07,  0.0000e+00, -1.1921e-07,  0.0000e+00,\n",
       "          0.0000e+00,  0.0000e+00, -5.9605e-08,  0.0000e+00, -5.9605e-08,\n",
       "          0.0000e+00],\n",
       "        [ 6.9315e-01,  0.0000e+00, -5.9605e-08,  0.0000e+00, -5.9605e-08,\n",
       "         -5.9605e-08,  0.0000e+00,  0.0000e+00,  0.0000e+00, -5.9605e-08,\n",
       "          0.0000e+00],\n",
       "        [ 6.9315e-01, -5.9605e-08, -5.9605e-08,  1.1921e-07, -5.9605e-08,\n",
       "          0.0000e+00,  0.0000e+00,  1.1921e-07,  0.0000e+00, -5.9605e-08,\n",
       "          0.0000e+00],\n",
       "        [ 6.9315e-01,  0.0000e+00, -5.9605e-08,  1.1921e-07,  0.0000e+00,\n",
       "         -1.7881e-07,  1.1921e-07,  1.1921e-07, -5.9605e-08, -5.9605e-08,\n",
       "          0.0000e+00],\n",
       "        [ 6.9315e-01,  0.0000e+00,  0.0000e+00,  0.0000e+00,  0.0000e+00,\n",
       "          0.0000e+00,  0.0000e+00, -1.1921e-07, -5.9605e-08, -5.9605e-08,\n",
       "          0.0000e+00],\n",
       "        [ 6.9315e-01, -5.9605e-08,  0.0000e+00, -5.9605e-08,  0.0000e+00,\n",
       "          0.0000e+00,  0.0000e+00, -1.1921e-07,  1.1921e-07, -5.9605e-08,\n",
       "          0.0000e+00],\n",
       "        [ 6.9315e-01, -5.9605e-08,  1.1921e-07, -1.7881e-07,  0.0000e+00,\n",
       "          0.0000e+00,  0.0000e+00, -1.1921e-07,  1.1921e-07, -5.9605e-08,\n",
       "          0.0000e+00],\n",
       "        [ 6.9315e-01,  0.0000e+00,  0.0000e+00,  0.0000e+00,  0.0000e+00,\n",
       "          1.1921e-07,  1.1921e-07, -5.9605e-08,  0.0000e+00, -1.1921e-07,\n",
       "          0.0000e+00],\n",
       "        [ 6.9315e-01, -5.9605e-08, -5.9605e-08,  1.1921e-07,  0.0000e+00,\n",
       "          0.0000e+00,  0.0000e+00,        -inf,         nan,         nan,\n",
       "          0.0000e+00]], device='cuda:0')"
      ]
     },
     "execution_count": 108,
     "metadata": {},
     "output_type": "execute_result"
    }
   ],
   "source": [
    "rewards_hist"
   ]
  },
  {
   "cell_type": "code",
   "execution_count": 77,
   "id": "6bc5d412-527d-4d54-9bd5-0eb6bcb967a0",
   "metadata": {},
   "outputs": [
    {
     "data": {
      "text/plain": [
       "tensor([[-0.0001],\n",
       "        [-0.0001],\n",
       "        [-0.0002],\n",
       "        [-0.0002],\n",
       "        [-0.0002],\n",
       "        [-0.0002],\n",
       "        [-0.0002],\n",
       "        [-0.0002],\n",
       "        [-0.0002],\n",
       "        [-0.0003]], device='cuda:0')"
      ]
     },
     "execution_count": 77,
     "metadata": {},
     "output_type": "execute_result"
    }
   ],
   "source": [
    "ys_hist[9]"
   ]
  },
  {
   "cell_type": "code",
   "execution_count": 46,
   "id": "07880932-93b4-4f8c-87cd-a31ce6c6fc1a",
   "metadata": {},
   "outputs": [
    {
     "data": {
      "text/plain": [
       "tensor([[-0.3773],\n",
       "        [-0.9212],\n",
       "        [-0.9566],\n",
       "        [-0.6134],\n",
       "        [-1.0000],\n",
       "        [-1.0000],\n",
       "        [-1.0000],\n",
       "        [-1.0000],\n",
       "        [-1.0000],\n",
       "        [-1.0000]], device='cuda:0')"
      ]
     },
     "execution_count": 46,
     "metadata": {},
     "output_type": "execute_result"
    }
   ],
   "source": [
    "ys_hist[5]"
   ]
  },
  {
   "cell_type": "code",
   "execution_count": 39,
   "id": "b0c49f05-1fc6-4566-9360-d93b1d8fd872",
   "metadata": {},
   "outputs": [
    {
     "data": {
      "text/plain": [
       "tensor(8.8126, device='cuda:0')"
      ]
     },
     "execution_count": 39,
     "metadata": {},
     "output_type": "execute_result"
    }
   ],
   "source": [
    "torch.nanmean(rewards_hist.sum(-1))"
   ]
  },
  {
   "cell_type": "code",
   "execution_count": 40,
   "id": "aee14634-6171-4c81-82ed-ac52782dfb31",
   "metadata": {},
   "outputs": [
    {
     "data": {
      "text/plain": [
       "tensor([-1.0419e-01,  6.8577e+00,  1.3119e+00,  1.1293e+00, -8.5529e-03,\n",
       "        -1.6776e+01,         nan,         nan,         nan,         nan,\n",
       "         0.0000e+00], device='cuda:0')"
      ]
     },
     "execution_count": 40,
     "metadata": {},
     "output_type": "execute_result"
    }
   ],
   "source": [
    "rewards_hist[5]"
   ]
  },
  {
   "cell_type": "code",
   "execution_count": 41,
   "id": "b1ff2b4c-9d73-4f4d-b83b-dcda361cedba",
   "metadata": {},
   "outputs": [
    {
     "data": {
      "text/plain": [
       "tensor([3.7016e-01, 1.7381e-03, 6.4873e-01, 3.8878e+00], device='cuda:0')"
      ]
     },
     "execution_count": 41,
     "metadata": {},
     "output_type": "execute_result"
    }
   ],
   "source": [
    "params[5]"
   ]
  },
  {
   "cell_type": "code",
   "execution_count": 34,
   "id": "ce1074b4-d159-48de-a4ed-88d4b1a02202",
   "metadata": {},
   "outputs": [
    {
     "data": {
      "text/plain": [
       "tensor([[-0.3773],\n",
       "        [-0.9212],\n",
       "        [-0.9566],\n",
       "        [-0.6134],\n",
       "        [-1.0000],\n",
       "        [-1.0000],\n",
       "        [-1.0000],\n",
       "        [-1.0000],\n",
       "        [-1.0000],\n",
       "        [-1.0000]], device='cuda:0')"
      ]
     },
     "execution_count": 34,
     "metadata": {},
     "output_type": "execute_result"
    }
   ],
   "source": [
    "ys_hist[5]"
   ]
  },
  {
   "cell_type": "code",
   "execution_count": null,
   "id": "dc7e1693-387f-4561-85f0-e23b7d9e74cb",
   "metadata": {},
   "outputs": [],
   "source": []
  },
  {
   "cell_type": "code",
   "execution_count": 23,
   "id": "69665c6a-3166-4e50-915b-d9194378edfc",
   "metadata": {},
   "outputs": [
    {
     "data": {
      "text/plain": [
       "tensor([[-0.7289,  0.6698],\n",
       "        [ 0.8817,  1.2228],\n",
       "        [ 1.4341,  0.6463],\n",
       "        [ 1.0733, -1.2968],\n",
       "        [-0.8485, -0.9864],\n",
       "        [ 0.3985,  0.4226],\n",
       "        [ 0.2888, -0.5700],\n",
       "        [ 0.0655, -0.3715],\n",
       "        [-0.0392, -0.7437],\n",
       "        [ 0.2918, -0.7857]], device='cuda:0')"
      ]
     },
     "execution_count": 23,
     "metadata": {},
     "output_type": "execute_result"
    }
   ],
   "source": [
    "ds_hist[30]"
   ]
  },
  {
   "cell_type": "code",
   "execution_count": 25,
   "id": "52f357ef-eea2-4171-85e3-71b20ba099bd",
   "metadata": {},
   "outputs": [
    {
     "data": {
      "text/plain": [
       "tensor(3.6108, device='cuda:0')"
      ]
     },
     "execution_count": 25,
     "metadata": {},
     "output_type": "execute_result"
    }
   ],
   "source": [
    "rewards_hist[:, :5].sum(-1).mean()"
   ]
  },
  {
   "cell_type": "code",
   "execution_count": 35,
   "id": "f2620780-096a-43a5-a56b-0c6894a8e579",
   "metadata": {},
   "outputs": [],
   "source": [
    "p_max = torch.arange(1, vsoed.n_buffer_max + 1).to(torch.float32)\n",
    "l_buffer = 1000000\n",
    "p = p_max[:l_buffer]\n",
    "p /= p.sum()\n",
    "idxs_pick = torch.multinomial(p, vsoed.n_batch, replacement=False)"
   ]
  },
  {
   "cell_type": "code",
   "execution_count": 36,
   "id": "00ba927a-c9bb-4e30-bab8-878090d38dea",
   "metadata": {},
   "outputs": [
    {
     "data": {
      "text/plain": [
       "(array([ 112.,  307.,  480.,  745.,  934., 1096., 1278., 1487., 1672.,\n",
       "        1889.]),\n",
       " array([ 10025. , 109021.9, 208018.8, 307015.7, 406012.6, 505009.5,\n",
       "        604006.4, 703003.3, 802000.2, 900997.1, 999994. ]),\n",
       " <BarContainer object of 10 artists>)"
      ]
     },
     "execution_count": 36,
     "metadata": {},
     "output_type": "execute_result"
    },
    {
     "data": {
      "image/png": "[encoded data removed]",
      "text/plain": [
       "<Figure size 432x288 with 1 Axes>"
      ]
     },
     "metadata": {
      "needs_background": "light"
     },
     "output_type": "display_data"
    }
   ],
   "source": [
    "plt.hist(idxs_pick.cpu().numpy())"
   ]
  },
  {
   "cell_type": "code",
   "execution_count": 6,
   "id": "d1e36b2e-c1e6-43dd-abe2-90ffca6fd4bc",
   "metadata": {},
   "outputs": [],
   "source": [
    "import joblib"
   ]
  },
  {
   "cell_type": "code",
   "execution_count": 7,
   "id": "c0eee186-f387-41b7-a1df-fc51e872a230",
   "metadata": {
    "scrolled": true,
    "tags": []
   },
   "outputs": [
    {
     "ename": "TypeError",
     "evalue": "cannot pickle 'module' object",
     "output_type": "error",
     "traceback": [
      "\u001b[0;31m---------------------------------------------------------------------------\u001b[0m",
      "\u001b[0;31mTypeError\u001b[0m                                 Traceback (most recent call last)",
      "\u001b[0;32m/tmp/ipykernel_3852929/4165733059.py\u001b[0m in \u001b[0;36m<module>\u001b[0;34m\u001b[0m\n\u001b[0;32m----> 1\u001b[0;31m \u001b[0mjoblib\u001b[0m\u001b[0;34m.\u001b[0m\u001b[0mdump\u001b[0m\u001b[0;34m(\u001b[0m\u001b[0mvsoed\u001b[0m\u001b[0;34m,\u001b[0m \u001b[0mfolder\u001b[0m \u001b[0;34m+\u001b[0m \u001b[0;34m'itr_0.pkl'\u001b[0m\u001b[0;34m)\u001b[0m\u001b[0;34m\u001b[0m\u001b[0;34m\u001b[0m\u001b[0m\n\u001b[0m",
      "\u001b[0;32m~/.local/lib/python3.9/site-packages/joblib/numpy_pickle.py\u001b[0m in \u001b[0;36mdump\u001b[0;34m(value, filename, compress, protocol, cache_size)\u001b[0m\n\u001b[1;32m    480\u001b[0m     \u001b[0;32melif\u001b[0m \u001b[0mis_filename\u001b[0m\u001b[0;34m:\u001b[0m\u001b[0;34m\u001b[0m\u001b[0;34m\u001b[0m\u001b[0m\n\u001b[1;32m    481\u001b[0m         \u001b[0;32mwith\u001b[0m \u001b[0mopen\u001b[0m\u001b[0;34m(\u001b[0m\u001b[0mfilename\u001b[0m\u001b[0;34m,\u001b[0m \u001b[0;34m'wb'\u001b[0m\u001b[0;34m)\u001b[0m \u001b[0;32mas\u001b[0m \u001b[0mf\u001b[0m\u001b[0;34m:\u001b[0m\u001b[0;34m\u001b[0m\u001b[0;34m\u001b[0m\u001b[0m\n\u001b[0;32m--> 482\u001b[0;31m             \u001b[0mNumpyPickler\u001b[0m\u001b[0;34m(\u001b[0m\u001b[0mf\u001b[0m\u001b[0;34m,\u001b[0m \u001b[0mprotocol\u001b[0m\u001b[0;34m=\u001b[0m\u001b[0mprotocol\u001b[0m\u001b[0;34m)\u001b[0m\u001b[0;34m.\u001b[0m\u001b[0mdump\u001b[0m\u001b[0;34m(\u001b[0m\u001b[0mvalue\u001b[0m\u001b[0;34m)\u001b[0m\u001b[0;34m\u001b[0m\u001b[0;34m\u001b[0m\u001b[0m\n\u001b[0m\u001b[1;32m    483\u001b[0m     \u001b[0;32melse\u001b[0m\u001b[0;34m:\u001b[0m\u001b[0;34m\u001b[0m\u001b[0;34m\u001b[0m\u001b[0m\n\u001b[1;32m    484\u001b[0m         \u001b[0mNumpyPickler\u001b[0m\u001b[0;34m(\u001b[0m\u001b[0mfilename\u001b[0m\u001b[0;34m,\u001b[0m \u001b[0mprotocol\u001b[0m\u001b[0;34m=\u001b[0m\u001b[0mprotocol\u001b[0m\u001b[0;34m)\u001b[0m\u001b[0;34m.\u001b[0m\u001b[0mdump\u001b[0m\u001b[0;34m(\u001b[0m\u001b[0mvalue\u001b[0m\u001b[0;34m)\u001b[0m\u001b[0;34m\u001b[0m\u001b[0;34m\u001b[0m\u001b[0m\n",
      "\u001b[0;32m/sw/pkgs/arc/python3.9-anaconda/2021.11/lib/python3.9/pickle.py\u001b[0m in \u001b[0;36mdump\u001b[0;34m(self, obj)\u001b[0m\n\u001b[1;32m    485\u001b[0m         \u001b[0;32mif\u001b[0m \u001b[0mself\u001b[0m\u001b[0;34m.\u001b[0m\u001b[0mproto\u001b[0m \u001b[0;34m>=\u001b[0m \u001b[0;36m4\u001b[0m\u001b[0;34m:\u001b[0m\u001b[0;34m\u001b[0m\u001b[0;34m\u001b[0m\u001b[0m\n\u001b[1;32m    486\u001b[0m             \u001b[0mself\u001b[0m\u001b[0;34m.\u001b[0m\u001b[0mframer\u001b[0m\u001b[0;34m.\u001b[0m\u001b[0mstart_framing\u001b[0m\u001b[0;34m(\u001b[0m\u001b[0;34m)\u001b[0m\u001b[0;34m\u001b[0m\u001b[0;34m\u001b[0m\u001b[0m\n\u001b[0;32m--> 487\u001b[0;31m         \u001b[0mself\u001b[0m\u001b[0;34m.\u001b[0m\u001b[0msave\u001b[0m\u001b[0;34m(\u001b[0m\u001b[0mobj\u001b[0m\u001b[0;34m)\u001b[0m\u001b[0;34m\u001b[0m\u001b[0;34m\u001b[0m\u001b[0m\n\u001b[0m\u001b[1;32m    488\u001b[0m         \u001b[0mself\u001b[0m\u001b[0;34m.\u001b[0m\u001b[0mwrite\u001b[0m\u001b[0;34m(\u001b[0m\u001b[0mSTOP\u001b[0m\u001b[0;34m)\u001b[0m\u001b[0;34m\u001b[0m\u001b[0;34m\u001b[0m\u001b[0m\n\u001b[1;32m    489\u001b[0m         \u001b[0mself\u001b[0m\u001b[0;34m.\u001b[0m\u001b[0mframer\u001b[0m\u001b[0;34m.\u001b[0m\u001b[0mend_framing\u001b[0m\u001b[0;34m(\u001b[0m\u001b[0;34m)\u001b[0m\u001b[0;34m\u001b[0m\u001b[0;34m\u001b[0m\u001b[0m\n",
      "\u001b[0;32m~/.local/lib/python3.9/site-packages/joblib/numpy_pickle.py\u001b[0m in \u001b[0;36msave\u001b[0;34m(self, obj)\u001b[0m\n\u001b[1;32m    282\u001b[0m             \u001b[0;32mreturn\u001b[0m\u001b[0;34m\u001b[0m\u001b[0;34m\u001b[0m\u001b[0m\n\u001b[1;32m    283\u001b[0m \u001b[0;34m\u001b[0m\u001b[0m\n\u001b[0;32m--> 284\u001b[0;31m         \u001b[0;32mreturn\u001b[0m \u001b[0mPickler\u001b[0m\u001b[0;34m.\u001b[0m\u001b[0msave\u001b[0m\u001b[0;34m(\u001b[0m\u001b[0mself\u001b[0m\u001b[0;34m,\u001b[0m \u001b[0mobj\u001b[0m\u001b[0;34m)\u001b[0m\u001b[0;34m\u001b[0m\u001b[0;34m\u001b[0m\u001b[0m\n\u001b[0m\u001b[1;32m    285\u001b[0m \u001b[0;34m\u001b[0m\u001b[0m\n\u001b[1;32m    286\u001b[0m \u001b[0;34m\u001b[0m\u001b[0m\n",
      "\u001b[0;32m/sw/pkgs/arc/python3.9-anaconda/2021.11/lib/python3.9/pickle.py\u001b[0m in \u001b[0;36msave\u001b[0;34m(self, obj, save_persistent_id)\u001b[0m\n\u001b[1;32m    601\u001b[0m \u001b[0;34m\u001b[0m\u001b[0m\n\u001b[1;32m    602\u001b[0m         \u001b[0;31m# Save the reduce() output and finally memoize the object\u001b[0m\u001b[0;34m\u001b[0m\u001b[0;34m\u001b[0m\u001b[0m\n\u001b[0;32m--> 603\u001b[0;31m         \u001b[0mself\u001b[0m\u001b[0;34m.\u001b[0m\u001b[0msave_reduce\u001b[0m\u001b[0;34m(\u001b[0m\u001b[0mobj\u001b[0m\u001b[0;34m=\u001b[0m\u001b[0mobj\u001b[0m\u001b[0;34m,\u001b[0m \u001b[0;34m*\u001b[0m\u001b[0mrv\u001b[0m\u001b[0;34m)\u001b[0m\u001b[0;34m\u001b[0m\u001b[0;34m\u001b[0m\u001b[0m\n\u001b[0m\u001b[1;32m    604\u001b[0m \u001b[0;34m\u001b[0m\u001b[0m\n\u001b[1;32m    605\u001b[0m     \u001b[0;32mdef\u001b[0m \u001b[0mpersistent_id\u001b[0m\u001b[0;34m(\u001b[0m\u001b[0mself\u001b[0m\u001b[0;34m,\u001b[0m \u001b[0mobj\u001b[0m\u001b[0;34m)\u001b[0m\u001b[0;34m:\u001b[0m\u001b[0;34m\u001b[0m\u001b[0;34m\u001b[0m\u001b[0m\n",
      "\u001b[0;32m/sw/pkgs/arc/python3.9-anaconda/2021.11/lib/python3.9/pickle.py\u001b[0m in \u001b[0;36msave_reduce\u001b[0;34m(self, func, args, state, listitems, dictitems, state_setter, obj)\u001b[0m\n\u001b[1;32m    715\u001b[0m         \u001b[0;32mif\u001b[0m \u001b[0mstate\u001b[0m \u001b[0;32mis\u001b[0m \u001b[0;32mnot\u001b[0m \u001b[0;32mNone\u001b[0m\u001b[0;34m:\u001b[0m\u001b[0;34m\u001b[0m\u001b[0;34m\u001b[0m\u001b[0m\n\u001b[1;32m    716\u001b[0m             \u001b[0;32mif\u001b[0m \u001b[0mstate_setter\u001b[0m \u001b[0;32mis\u001b[0m \u001b[0;32mNone\u001b[0m\u001b[0;34m:\u001b[0m\u001b[0;34m\u001b[0m\u001b[0;34m\u001b[0m\u001b[0m\n\u001b[0;32m--> 717\u001b[0;31m                 \u001b[0msave\u001b[0m\u001b[0;34m(\u001b[0m\u001b[0mstate\u001b[0m\u001b[0;34m)\u001b[0m\u001b[0;34m\u001b[0m\u001b[0;34m\u001b[0m\u001b[0m\n\u001b[0m\u001b[1;32m    718\u001b[0m                 \u001b[0mwrite\u001b[0m\u001b[0;34m(\u001b[0m\u001b[0mBUILD\u001b[0m\u001b[0;34m)\u001b[0m\u001b[0;34m\u001b[0m\u001b[0;34m\u001b[0m\u001b[0m\n\u001b[1;32m    719\u001b[0m             \u001b[0;32melse\u001b[0m\u001b[0;34m:\u001b[0m\u001b[0;34m\u001b[0m\u001b[0;34m\u001b[0m\u001b[0m\n",
      "\u001b[0;32m~/.local/lib/python3.9/site-packages/joblib/numpy_pickle.py\u001b[0m in \u001b[0;36msave\u001b[0;34m(self, obj)\u001b[0m\n\u001b[1;32m    282\u001b[0m             \u001b[0;32mreturn\u001b[0m\u001b[0;34m\u001b[0m\u001b[0;34m\u001b[0m\u001b[0m\n\u001b[1;32m    283\u001b[0m \u001b[0;34m\u001b[0m\u001b[0m\n\u001b[0;32m--> 284\u001b[0;31m         \u001b[0;32mreturn\u001b[0m \u001b[0mPickler\u001b[0m\u001b[0;34m.\u001b[0m\u001b[0msave\u001b[0m\u001b[0;34m(\u001b[0m\u001b[0mself\u001b[0m\u001b[0;34m,\u001b[0m \u001b[0mobj\u001b[0m\u001b[0;34m)\u001b[0m\u001b[0;34m\u001b[0m\u001b[0;34m\u001b[0m\u001b[0m\n\u001b[0m\u001b[1;32m    285\u001b[0m \u001b[0;34m\u001b[0m\u001b[0m\n\u001b[1;32m    286\u001b[0m \u001b[0;34m\u001b[0m\u001b[0m\n",
      "\u001b[0;32m/sw/pkgs/arc/python3.9-anaconda/2021.11/lib/python3.9/pickle.py\u001b[0m in \u001b[0;36msave\u001b[0;34m(self, obj, save_persistent_id)\u001b[0m\n\u001b[1;32m    558\u001b[0m             \u001b[0mf\u001b[0m \u001b[0;34m=\u001b[0m \u001b[0mself\u001b[0m\u001b[0;34m.\u001b[0m\u001b[0mdispatch\u001b[0m\u001b[0;34m.\u001b[0m\u001b[0mget\u001b[0m\u001b[0;34m(\u001b[0m\u001b[0mt\u001b[0m\u001b[0;34m)\u001b[0m\u001b[0;34m\u001b[0m\u001b[0;34m\u001b[0m\u001b[0m\n\u001b[1;32m    559\u001b[0m             \u001b[0;32mif\u001b[0m \u001b[0mf\u001b[0m \u001b[0;32mis\u001b[0m \u001b[0;32mnot\u001b[0m \u001b[0;32mNone\u001b[0m\u001b[0;34m:\u001b[0m\u001b[0;34m\u001b[0m\u001b[0;34m\u001b[0m\u001b[0m\n\u001b[0;32m--> 560\u001b[0;31m                 \u001b[0mf\u001b[0m\u001b[0;34m(\u001b[0m\u001b[0mself\u001b[0m\u001b[0;34m,\u001b[0m \u001b[0mobj\u001b[0m\u001b[0;34m)\u001b[0m  \u001b[0;31m# Call unbound method with explicit self\u001b[0m\u001b[0;34m\u001b[0m\u001b[0;34m\u001b[0m\u001b[0m\n\u001b[0m\u001b[1;32m    561\u001b[0m                 \u001b[0;32mreturn\u001b[0m\u001b[0;34m\u001b[0m\u001b[0;34m\u001b[0m\u001b[0m\n\u001b[1;32m    562\u001b[0m \u001b[0;34m\u001b[0m\u001b[0m\n",
      "\u001b[0;32m/sw/pkgs/arc/python3.9-anaconda/2021.11/lib/python3.9/pickle.py\u001b[0m in \u001b[0;36msave_dict\u001b[0;34m(self, obj)\u001b[0m\n\u001b[1;32m    969\u001b[0m \u001b[0;34m\u001b[0m\u001b[0m\n\u001b[1;32m    970\u001b[0m         \u001b[0mself\u001b[0m\u001b[0;34m.\u001b[0m\u001b[0mmemoize\u001b[0m\u001b[0;34m(\u001b[0m\u001b[0mobj\u001b[0m\u001b[0;34m)\u001b[0m\u001b[0;34m\u001b[0m\u001b[0;34m\u001b[0m\u001b[0m\n\u001b[0;32m--> 971\u001b[0;31m         \u001b[0mself\u001b[0m\u001b[0;34m.\u001b[0m\u001b[0m_batch_setitems\u001b[0m\u001b[0;34m(\u001b[0m\u001b[0mobj\u001b[0m\u001b[0;34m.\u001b[0m\u001b[0mitems\u001b[0m\u001b[0;34m(\u001b[0m\u001b[0;34m)\u001b[0m\u001b[0;34m)\u001b[0m\u001b[0;34m\u001b[0m\u001b[0;34m\u001b[0m\u001b[0m\n\u001b[0m\u001b[1;32m    972\u001b[0m \u001b[0;34m\u001b[0m\u001b[0m\n\u001b[1;32m    973\u001b[0m     \u001b[0mdispatch\u001b[0m\u001b[0;34m[\u001b[0m\u001b[0mdict\u001b[0m\u001b[0;34m]\u001b[0m \u001b[0;34m=\u001b[0m \u001b[0msave_dict\u001b[0m\u001b[0;34m\u001b[0m\u001b[0;34m\u001b[0m\u001b[0m\n",
      "\u001b[0;32m/sw/pkgs/arc/python3.9-anaconda/2021.11/lib/python3.9/pickle.py\u001b[0m in \u001b[0;36m_batch_setitems\u001b[0;34m(self, items)\u001b[0m\n\u001b[1;32m    995\u001b[0m                 \u001b[0;32mfor\u001b[0m \u001b[0mk\u001b[0m\u001b[0;34m,\u001b[0m \u001b[0mv\u001b[0m \u001b[0;32min\u001b[0m \u001b[0mtmp\u001b[0m\u001b[0;34m:\u001b[0m\u001b[0;34m\u001b[0m\u001b[0;34m\u001b[0m\u001b[0m\n\u001b[1;32m    996\u001b[0m                     \u001b[0msave\u001b[0m\u001b[0;34m(\u001b[0m\u001b[0mk\u001b[0m\u001b[0;34m)\u001b[0m\u001b[0;34m\u001b[0m\u001b[0;34m\u001b[0m\u001b[0m\n\u001b[0;32m--> 997\u001b[0;31m                     \u001b[0msave\u001b[0m\u001b[0;34m(\u001b[0m\u001b[0mv\u001b[0m\u001b[0;34m)\u001b[0m\u001b[0;34m\u001b[0m\u001b[0;34m\u001b[0m\u001b[0m\n\u001b[0m\u001b[1;32m    998\u001b[0m                 \u001b[0mwrite\u001b[0m\u001b[0;34m(\u001b[0m\u001b[0mSETITEMS\u001b[0m\u001b[0;34m)\u001b[0m\u001b[0;34m\u001b[0m\u001b[0;34m\u001b[0m\u001b[0m\n\u001b[1;32m    999\u001b[0m             \u001b[0;32melif\u001b[0m \u001b[0mn\u001b[0m\u001b[0;34m:\u001b[0m\u001b[0;34m\u001b[0m\u001b[0;34m\u001b[0m\u001b[0m\n",
      "\u001b[0;32m~/.local/lib/python3.9/site-packages/joblib/numpy_pickle.py\u001b[0m in \u001b[0;36msave\u001b[0;34m(self, obj)\u001b[0m\n\u001b[1;32m    282\u001b[0m             \u001b[0;32mreturn\u001b[0m\u001b[0;34m\u001b[0m\u001b[0;34m\u001b[0m\u001b[0m\n\u001b[1;32m    283\u001b[0m \u001b[0;34m\u001b[0m\u001b[0m\n\u001b[0;32m--> 284\u001b[0;31m         \u001b[0;32mreturn\u001b[0m \u001b[0mPickler\u001b[0m\u001b[0;34m.\u001b[0m\u001b[0msave\u001b[0m\u001b[0;34m(\u001b[0m\u001b[0mself\u001b[0m\u001b[0;34m,\u001b[0m \u001b[0mobj\u001b[0m\u001b[0;34m)\u001b[0m\u001b[0;34m\u001b[0m\u001b[0;34m\u001b[0m\u001b[0m\n\u001b[0m\u001b[1;32m    285\u001b[0m \u001b[0;34m\u001b[0m\u001b[0m\n\u001b[1;32m    286\u001b[0m \u001b[0;34m\u001b[0m\u001b[0m\n",
      "\u001b[0;32m/sw/pkgs/arc/python3.9-anaconda/2021.11/lib/python3.9/pickle.py\u001b[0m in \u001b[0;36msave\u001b[0;34m(self, obj, save_persistent_id)\u001b[0m\n\u001b[1;32m    601\u001b[0m \u001b[0;34m\u001b[0m\u001b[0m\n\u001b[1;32m    602\u001b[0m         \u001b[0;31m# Save the reduce() output and finally memoize the object\u001b[0m\u001b[0;34m\u001b[0m\u001b[0;34m\u001b[0m\u001b[0m\n\u001b[0;32m--> 603\u001b[0;31m         \u001b[0mself\u001b[0m\u001b[0;34m.\u001b[0m\u001b[0msave_reduce\u001b[0m\u001b[0;34m(\u001b[0m\u001b[0mobj\u001b[0m\u001b[0;34m=\u001b[0m\u001b[0mobj\u001b[0m\u001b[0;34m,\u001b[0m \u001b[0;34m*\u001b[0m\u001b[0mrv\u001b[0m\u001b[0;34m)\u001b[0m\u001b[0;34m\u001b[0m\u001b[0;34m\u001b[0m\u001b[0m\n\u001b[0m\u001b[1;32m    604\u001b[0m \u001b[0;34m\u001b[0m\u001b[0m\n\u001b[1;32m    605\u001b[0m     \u001b[0;32mdef\u001b[0m \u001b[0mpersistent_id\u001b[0m\u001b[0;34m(\u001b[0m\u001b[0mself\u001b[0m\u001b[0;34m,\u001b[0m \u001b[0mobj\u001b[0m\u001b[0;34m)\u001b[0m\u001b[0;34m:\u001b[0m\u001b[0;34m\u001b[0m\u001b[0;34m\u001b[0m\u001b[0m\n",
      "\u001b[0;32m/sw/pkgs/arc/python3.9-anaconda/2021.11/lib/python3.9/pickle.py\u001b[0m in \u001b[0;36msave_reduce\u001b[0;34m(self, func, args, state, listitems, dictitems, state_setter, obj)\u001b[0m\n\u001b[1;32m    690\u001b[0m         \u001b[0;32melse\u001b[0m\u001b[0;34m:\u001b[0m\u001b[0;34m\u001b[0m\u001b[0;34m\u001b[0m\u001b[0m\n\u001b[1;32m    691\u001b[0m             \u001b[0msave\u001b[0m\u001b[0;34m(\u001b[0m\u001b[0mfunc\u001b[0m\u001b[0;34m)\u001b[0m\u001b[0;34m\u001b[0m\u001b[0;34m\u001b[0m\u001b[0m\n\u001b[0;32m--> 692\u001b[0;31m             \u001b[0msave\u001b[0m\u001b[0;34m(\u001b[0m\u001b[0margs\u001b[0m\u001b[0;34m)\u001b[0m\u001b[0;34m\u001b[0m\u001b[0;34m\u001b[0m\u001b[0m\n\u001b[0m\u001b[1;32m    693\u001b[0m             \u001b[0mwrite\u001b[0m\u001b[0;34m(\u001b[0m\u001b[0mREDUCE\u001b[0m\u001b[0;34m)\u001b[0m\u001b[0;34m\u001b[0m\u001b[0;34m\u001b[0m\u001b[0m\n\u001b[1;32m    694\u001b[0m \u001b[0;34m\u001b[0m\u001b[0m\n",
      "\u001b[0;32m~/.local/lib/python3.9/site-packages/joblib/numpy_pickle.py\u001b[0m in \u001b[0;36msave\u001b[0;34m(self, obj)\u001b[0m\n\u001b[1;32m    282\u001b[0m             \u001b[0;32mreturn\u001b[0m\u001b[0;34m\u001b[0m\u001b[0;34m\u001b[0m\u001b[0m\n\u001b[1;32m    283\u001b[0m \u001b[0;34m\u001b[0m\u001b[0m\n\u001b[0;32m--> 284\u001b[0;31m         \u001b[0;32mreturn\u001b[0m \u001b[0mPickler\u001b[0m\u001b[0;34m.\u001b[0m\u001b[0msave\u001b[0m\u001b[0;34m(\u001b[0m\u001b[0mself\u001b[0m\u001b[0;34m,\u001b[0m \u001b[0mobj\u001b[0m\u001b[0;34m)\u001b[0m\u001b[0;34m\u001b[0m\u001b[0;34m\u001b[0m\u001b[0m\n\u001b[0m\u001b[1;32m    285\u001b[0m \u001b[0;34m\u001b[0m\u001b[0m\n\u001b[1;32m    286\u001b[0m \u001b[0;34m\u001b[0m\u001b[0m\n",
      "\u001b[0;32m/sw/pkgs/arc/python3.9-anaconda/2021.11/lib/python3.9/pickle.py\u001b[0m in \u001b[0;36msave\u001b[0;34m(self, obj, save_persistent_id)\u001b[0m\n\u001b[1;32m    558\u001b[0m             \u001b[0mf\u001b[0m \u001b[0;34m=\u001b[0m \u001b[0mself\u001b[0m\u001b[0;34m.\u001b[0m\u001b[0mdispatch\u001b[0m\u001b[0;34m.\u001b[0m\u001b[0mget\u001b[0m\u001b[0;34m(\u001b[0m\u001b[0mt\u001b[0m\u001b[0;34m)\u001b[0m\u001b[0;34m\u001b[0m\u001b[0;34m\u001b[0m\u001b[0m\n\u001b[1;32m    559\u001b[0m             \u001b[0;32mif\u001b[0m \u001b[0mf\u001b[0m \u001b[0;32mis\u001b[0m \u001b[0;32mnot\u001b[0m \u001b[0;32mNone\u001b[0m\u001b[0;34m:\u001b[0m\u001b[0;34m\u001b[0m\u001b[0;34m\u001b[0m\u001b[0m\n\u001b[0;32m--> 560\u001b[0;31m                 \u001b[0mf\u001b[0m\u001b[0;34m(\u001b[0m\u001b[0mself\u001b[0m\u001b[0;34m,\u001b[0m \u001b[0mobj\u001b[0m\u001b[0;34m)\u001b[0m  \u001b[0;31m# Call unbound method with explicit self\u001b[0m\u001b[0;34m\u001b[0m\u001b[0;34m\u001b[0m\u001b[0m\n\u001b[0m\u001b[1;32m    561\u001b[0m                 \u001b[0;32mreturn\u001b[0m\u001b[0;34m\u001b[0m\u001b[0;34m\u001b[0m\u001b[0m\n\u001b[1;32m    562\u001b[0m \u001b[0;34m\u001b[0m\u001b[0m\n",
      "\u001b[0;32m/sw/pkgs/arc/python3.9-anaconda/2021.11/lib/python3.9/pickle.py\u001b[0m in \u001b[0;36msave_tuple\u001b[0;34m(self, obj)\u001b[0m\n\u001b[1;32m    884\u001b[0m         \u001b[0;32mif\u001b[0m \u001b[0mn\u001b[0m \u001b[0;34m<=\u001b[0m \u001b[0;36m3\u001b[0m \u001b[0;32mand\u001b[0m \u001b[0mself\u001b[0m\u001b[0;34m.\u001b[0m\u001b[0mproto\u001b[0m \u001b[0;34m>=\u001b[0m \u001b[0;36m2\u001b[0m\u001b[0;34m:\u001b[0m\u001b[0;34m\u001b[0m\u001b[0;34m\u001b[0m\u001b[0m\n\u001b[1;32m    885\u001b[0m             \u001b[0;32mfor\u001b[0m \u001b[0melement\u001b[0m \u001b[0;32min\u001b[0m \u001b[0mobj\u001b[0m\u001b[0;34m:\u001b[0m\u001b[0;34m\u001b[0m\u001b[0;34m\u001b[0m\u001b[0m\n\u001b[0;32m--> 886\u001b[0;31m                 \u001b[0msave\u001b[0m\u001b[0;34m(\u001b[0m\u001b[0melement\u001b[0m\u001b[0;34m)\u001b[0m\u001b[0;34m\u001b[0m\u001b[0;34m\u001b[0m\u001b[0m\n\u001b[0m\u001b[1;32m    887\u001b[0m             \u001b[0;31m# Subtle.  Same as in the big comment below.\u001b[0m\u001b[0;34m\u001b[0m\u001b[0;34m\u001b[0m\u001b[0m\n\u001b[1;32m    888\u001b[0m             \u001b[0;32mif\u001b[0m \u001b[0mid\u001b[0m\u001b[0;34m(\u001b[0m\u001b[0mobj\u001b[0m\u001b[0;34m)\u001b[0m \u001b[0;32min\u001b[0m \u001b[0mmemo\u001b[0m\u001b[0;34m:\u001b[0m\u001b[0;34m\u001b[0m\u001b[0;34m\u001b[0m\u001b[0m\n",
      "\u001b[0;32m~/.local/lib/python3.9/site-packages/joblib/numpy_pickle.py\u001b[0m in \u001b[0;36msave\u001b[0;34m(self, obj)\u001b[0m\n\u001b[1;32m    282\u001b[0m             \u001b[0;32mreturn\u001b[0m\u001b[0;34m\u001b[0m\u001b[0;34m\u001b[0m\u001b[0m\n\u001b[1;32m    283\u001b[0m \u001b[0;34m\u001b[0m\u001b[0m\n\u001b[0;32m--> 284\u001b[0;31m         \u001b[0;32mreturn\u001b[0m \u001b[0mPickler\u001b[0m\u001b[0;34m.\u001b[0m\u001b[0msave\u001b[0m\u001b[0;34m(\u001b[0m\u001b[0mself\u001b[0m\u001b[0;34m,\u001b[0m \u001b[0mobj\u001b[0m\u001b[0;34m)\u001b[0m\u001b[0;34m\u001b[0m\u001b[0;34m\u001b[0m\u001b[0m\n\u001b[0m\u001b[1;32m    285\u001b[0m \u001b[0;34m\u001b[0m\u001b[0m\n\u001b[1;32m    286\u001b[0m \u001b[0;34m\u001b[0m\u001b[0m\n",
      "\u001b[0;32m/sw/pkgs/arc/python3.9-anaconda/2021.11/lib/python3.9/pickle.py\u001b[0m in \u001b[0;36msave\u001b[0;34m(self, obj, save_persistent_id)\u001b[0m\n\u001b[1;32m    601\u001b[0m \u001b[0;34m\u001b[0m\u001b[0m\n\u001b[1;32m    602\u001b[0m         \u001b[0;31m# Save the reduce() output and finally memoize the object\u001b[0m\u001b[0;34m\u001b[0m\u001b[0;34m\u001b[0m\u001b[0m\n\u001b[0;32m--> 603\u001b[0;31m         \u001b[0mself\u001b[0m\u001b[0;34m.\u001b[0m\u001b[0msave_reduce\u001b[0m\u001b[0;34m(\u001b[0m\u001b[0mobj\u001b[0m\u001b[0;34m=\u001b[0m\u001b[0mobj\u001b[0m\u001b[0;34m,\u001b[0m \u001b[0;34m*\u001b[0m\u001b[0mrv\u001b[0m\u001b[0;34m)\u001b[0m\u001b[0;34m\u001b[0m\u001b[0;34m\u001b[0m\u001b[0m\n\u001b[0m\u001b[1;32m    604\u001b[0m \u001b[0;34m\u001b[0m\u001b[0m\n\u001b[1;32m    605\u001b[0m     \u001b[0;32mdef\u001b[0m \u001b[0mpersistent_id\u001b[0m\u001b[0;34m(\u001b[0m\u001b[0mself\u001b[0m\u001b[0;34m,\u001b[0m \u001b[0mobj\u001b[0m\u001b[0;34m)\u001b[0m\u001b[0;34m:\u001b[0m\u001b[0;34m\u001b[0m\u001b[0;34m\u001b[0m\u001b[0m\n",
      "\u001b[0;32m/sw/pkgs/arc/python3.9-anaconda/2021.11/lib/python3.9/pickle.py\u001b[0m in \u001b[0;36msave_reduce\u001b[0;34m(self, func, args, state, listitems, dictitems, state_setter, obj)\u001b[0m\n\u001b[1;32m    715\u001b[0m         \u001b[0;32mif\u001b[0m \u001b[0mstate\u001b[0m \u001b[0;32mis\u001b[0m \u001b[0;32mnot\u001b[0m \u001b[0;32mNone\u001b[0m\u001b[0;34m:\u001b[0m\u001b[0;34m\u001b[0m\u001b[0;34m\u001b[0m\u001b[0m\n\u001b[1;32m    716\u001b[0m             \u001b[0;32mif\u001b[0m \u001b[0mstate_setter\u001b[0m \u001b[0;32mis\u001b[0m \u001b[0;32mNone\u001b[0m\u001b[0;34m:\u001b[0m\u001b[0;34m\u001b[0m\u001b[0;34m\u001b[0m\u001b[0m\n\u001b[0;32m--> 717\u001b[0;31m                 \u001b[0msave\u001b[0m\u001b[0;34m(\u001b[0m\u001b[0mstate\u001b[0m\u001b[0;34m)\u001b[0m\u001b[0;34m\u001b[0m\u001b[0;34m\u001b[0m\u001b[0m\n\u001b[0m\u001b[1;32m    718\u001b[0m                 \u001b[0mwrite\u001b[0m\u001b[0;34m(\u001b[0m\u001b[0mBUILD\u001b[0m\u001b[0;34m)\u001b[0m\u001b[0;34m\u001b[0m\u001b[0;34m\u001b[0m\u001b[0m\n\u001b[1;32m    719\u001b[0m             \u001b[0;32melse\u001b[0m\u001b[0;34m:\u001b[0m\u001b[0;34m\u001b[0m\u001b[0;34m\u001b[0m\u001b[0m\n",
      "\u001b[0;32m~/.local/lib/python3.9/site-packages/joblib/numpy_pickle.py\u001b[0m in \u001b[0;36msave\u001b[0;34m(self, obj)\u001b[0m\n\u001b[1;32m    282\u001b[0m             \u001b[0;32mreturn\u001b[0m\u001b[0;34m\u001b[0m\u001b[0;34m\u001b[0m\u001b[0m\n\u001b[1;32m    283\u001b[0m \u001b[0;34m\u001b[0m\u001b[0m\n\u001b[0;32m--> 284\u001b[0;31m         \u001b[0;32mreturn\u001b[0m \u001b[0mPickler\u001b[0m\u001b[0;34m.\u001b[0m\u001b[0msave\u001b[0m\u001b[0;34m(\u001b[0m\u001b[0mself\u001b[0m\u001b[0;34m,\u001b[0m \u001b[0mobj\u001b[0m\u001b[0;34m)\u001b[0m\u001b[0;34m\u001b[0m\u001b[0;34m\u001b[0m\u001b[0m\n\u001b[0m\u001b[1;32m    285\u001b[0m \u001b[0;34m\u001b[0m\u001b[0m\n\u001b[1;32m    286\u001b[0m \u001b[0;34m\u001b[0m\u001b[0m\n",
      "\u001b[0;32m/sw/pkgs/arc/python3.9-anaconda/2021.11/lib/python3.9/pickle.py\u001b[0m in \u001b[0;36msave\u001b[0;34m(self, obj, save_persistent_id)\u001b[0m\n\u001b[1;32m    558\u001b[0m             \u001b[0mf\u001b[0m \u001b[0;34m=\u001b[0m \u001b[0mself\u001b[0m\u001b[0;34m.\u001b[0m\u001b[0mdispatch\u001b[0m\u001b[0;34m.\u001b[0m\u001b[0mget\u001b[0m\u001b[0;34m(\u001b[0m\u001b[0mt\u001b[0m\u001b[0;34m)\u001b[0m\u001b[0;34m\u001b[0m\u001b[0;34m\u001b[0m\u001b[0m\n\u001b[1;32m    559\u001b[0m             \u001b[0;32mif\u001b[0m \u001b[0mf\u001b[0m \u001b[0;32mis\u001b[0m \u001b[0;32mnot\u001b[0m \u001b[0;32mNone\u001b[0m\u001b[0;34m:\u001b[0m\u001b[0;34m\u001b[0m\u001b[0;34m\u001b[0m\u001b[0m\n\u001b[0;32m--> 560\u001b[0;31m                 \u001b[0mf\u001b[0m\u001b[0;34m(\u001b[0m\u001b[0mself\u001b[0m\u001b[0;34m,\u001b[0m \u001b[0mobj\u001b[0m\u001b[0;34m)\u001b[0m  \u001b[0;31m# Call unbound method with explicit self\u001b[0m\u001b[0;34m\u001b[0m\u001b[0;34m\u001b[0m\u001b[0m\n\u001b[0m\u001b[1;32m    561\u001b[0m                 \u001b[0;32mreturn\u001b[0m\u001b[0;34m\u001b[0m\u001b[0;34m\u001b[0m\u001b[0m\n\u001b[1;32m    562\u001b[0m \u001b[0;34m\u001b[0m\u001b[0m\n",
      "\u001b[0;32m/sw/pkgs/arc/python3.9-anaconda/2021.11/lib/python3.9/pickle.py\u001b[0m in \u001b[0;36msave_dict\u001b[0;34m(self, obj)\u001b[0m\n\u001b[1;32m    969\u001b[0m \u001b[0;34m\u001b[0m\u001b[0m\n\u001b[1;32m    970\u001b[0m         \u001b[0mself\u001b[0m\u001b[0;34m.\u001b[0m\u001b[0mmemoize\u001b[0m\u001b[0;34m(\u001b[0m\u001b[0mobj\u001b[0m\u001b[0;34m)\u001b[0m\u001b[0;34m\u001b[0m\u001b[0;34m\u001b[0m\u001b[0m\n\u001b[0;32m--> 971\u001b[0;31m         \u001b[0mself\u001b[0m\u001b[0;34m.\u001b[0m\u001b[0m_batch_setitems\u001b[0m\u001b[0;34m(\u001b[0m\u001b[0mobj\u001b[0m\u001b[0;34m.\u001b[0m\u001b[0mitems\u001b[0m\u001b[0;34m(\u001b[0m\u001b[0;34m)\u001b[0m\u001b[0;34m)\u001b[0m\u001b[0;34m\u001b[0m\u001b[0;34m\u001b[0m\u001b[0m\n\u001b[0m\u001b[1;32m    972\u001b[0m \u001b[0;34m\u001b[0m\u001b[0m\n\u001b[1;32m    973\u001b[0m     \u001b[0mdispatch\u001b[0m\u001b[0;34m[\u001b[0m\u001b[0mdict\u001b[0m\u001b[0;34m]\u001b[0m \u001b[0;34m=\u001b[0m \u001b[0msave_dict\u001b[0m\u001b[0;34m\u001b[0m\u001b[0;34m\u001b[0m\u001b[0m\n",
      "\u001b[0;32m/sw/pkgs/arc/python3.9-anaconda/2021.11/lib/python3.9/pickle.py\u001b[0m in \u001b[0;36m_batch_setitems\u001b[0;34m(self, items)\u001b[0m\n\u001b[1;32m    995\u001b[0m                 \u001b[0;32mfor\u001b[0m \u001b[0mk\u001b[0m\u001b[0;34m,\u001b[0m \u001b[0mv\u001b[0m \u001b[0;32min\u001b[0m \u001b[0mtmp\u001b[0m\u001b[0;34m:\u001b[0m\u001b[0;34m\u001b[0m\u001b[0;34m\u001b[0m\u001b[0m\n\u001b[1;32m    996\u001b[0m                     \u001b[0msave\u001b[0m\u001b[0;34m(\u001b[0m\u001b[0mk\u001b[0m\u001b[0;34m)\u001b[0m\u001b[0;34m\u001b[0m\u001b[0;34m\u001b[0m\u001b[0m\n\u001b[0;32m--> 997\u001b[0;31m                     \u001b[0msave\u001b[0m\u001b[0;34m(\u001b[0m\u001b[0mv\u001b[0m\u001b[0;34m)\u001b[0m\u001b[0;34m\u001b[0m\u001b[0;34m\u001b[0m\u001b[0m\n\u001b[0m\u001b[1;32m    998\u001b[0m                 \u001b[0mwrite\u001b[0m\u001b[0;34m(\u001b[0m\u001b[0mSETITEMS\u001b[0m\u001b[0;34m)\u001b[0m\u001b[0;34m\u001b[0m\u001b[0;34m\u001b[0m\u001b[0m\n\u001b[1;32m    999\u001b[0m             \u001b[0;32melif\u001b[0m \u001b[0mn\u001b[0m\u001b[0;34m:\u001b[0m\u001b[0;34m\u001b[0m\u001b[0;34m\u001b[0m\u001b[0m\n",
      "\u001b[0;32m~/.local/lib/python3.9/site-packages/joblib/numpy_pickle.py\u001b[0m in \u001b[0;36msave\u001b[0;34m(self, obj)\u001b[0m\n\u001b[1;32m    282\u001b[0m             \u001b[0;32mreturn\u001b[0m\u001b[0;34m\u001b[0m\u001b[0;34m\u001b[0m\u001b[0m\n\u001b[1;32m    283\u001b[0m \u001b[0;34m\u001b[0m\u001b[0m\n\u001b[0;32m--> 284\u001b[0;31m         \u001b[0;32mreturn\u001b[0m \u001b[0mPickler\u001b[0m\u001b[0;34m.\u001b[0m\u001b[0msave\u001b[0m\u001b[0;34m(\u001b[0m\u001b[0mself\u001b[0m\u001b[0;34m,\u001b[0m \u001b[0mobj\u001b[0m\u001b[0;34m)\u001b[0m\u001b[0;34m\u001b[0m\u001b[0;34m\u001b[0m\u001b[0m\n\u001b[0m\u001b[1;32m    285\u001b[0m \u001b[0;34m\u001b[0m\u001b[0m\n\u001b[1;32m    286\u001b[0m \u001b[0;34m\u001b[0m\u001b[0m\n",
      "\u001b[0;32m/sw/pkgs/arc/python3.9-anaconda/2021.11/lib/python3.9/pickle.py\u001b[0m in \u001b[0;36msave\u001b[0;34m(self, obj, save_persistent_id)\u001b[0m\n\u001b[1;32m    576\u001b[0m                 \u001b[0mreduce\u001b[0m \u001b[0;34m=\u001b[0m \u001b[0mgetattr\u001b[0m\u001b[0;34m(\u001b[0m\u001b[0mobj\u001b[0m\u001b[0;34m,\u001b[0m \u001b[0;34m\"__reduce_ex__\"\u001b[0m\u001b[0;34m,\u001b[0m \u001b[0;32mNone\u001b[0m\u001b[0;34m)\u001b[0m\u001b[0;34m\u001b[0m\u001b[0;34m\u001b[0m\u001b[0m\n\u001b[1;32m    577\u001b[0m                 \u001b[0;32mif\u001b[0m \u001b[0mreduce\u001b[0m \u001b[0;32mis\u001b[0m \u001b[0;32mnot\u001b[0m \u001b[0;32mNone\u001b[0m\u001b[0;34m:\u001b[0m\u001b[0;34m\u001b[0m\u001b[0;34m\u001b[0m\u001b[0m\n\u001b[0;32m--> 578\u001b[0;31m                     \u001b[0mrv\u001b[0m \u001b[0;34m=\u001b[0m \u001b[0mreduce\u001b[0m\u001b[0;34m(\u001b[0m\u001b[0mself\u001b[0m\u001b[0;34m.\u001b[0m\u001b[0mproto\u001b[0m\u001b[0;34m)\u001b[0m\u001b[0;34m\u001b[0m\u001b[0;34m\u001b[0m\u001b[0m\n\u001b[0m\u001b[1;32m    579\u001b[0m                 \u001b[0;32melse\u001b[0m\u001b[0;34m:\u001b[0m\u001b[0;34m\u001b[0m\u001b[0;34m\u001b[0m\u001b[0m\n\u001b[1;32m    580\u001b[0m                     \u001b[0mreduce\u001b[0m \u001b[0;34m=\u001b[0m \u001b[0mgetattr\u001b[0m\u001b[0;34m(\u001b[0m\u001b[0mobj\u001b[0m\u001b[0;34m,\u001b[0m \u001b[0;34m\"__reduce__\"\u001b[0m\u001b[0;34m,\u001b[0m \u001b[0;32mNone\u001b[0m\u001b[0;34m)\u001b[0m\u001b[0;34m\u001b[0m\u001b[0;34m\u001b[0m\u001b[0m\n",
      "\u001b[0;31mTypeError\u001b[0m: cannot pickle 'module' object"
     ]
    }
   ],
   "source": [
    "joblib.dump(vsoed, folder + 'itr_0.pkl')"
   ]
  },
  {
   "cell_type": "code",
   "execution_count": 9,
   "id": "9b4e8e8b-09a2-4181-93a7-8a2400ff100b",
   "metadata": {},
   "outputs": [
    {
     "data": {
      "text/plain": [
       "<function vsOED.vsoed.VSOED.__init__.<locals>.nkld_rw_f(*args, **kws)>"
      ]
     },
     "execution_count": 9,
     "metadata": {},
     "output_type": "execute_result"
    }
   ],
   "source": [
    "vsoed.nkld_rw_f"
   ]
  },
  {
   "cell_type": "code",
   "execution_count": 51,
   "id": "b5732fa5-0872-48a3-9dc0-63a85d3717f9",
   "metadata": {},
   "outputs": [
    {
     "data": {
      "text/plain": [
       "tensor([])"
      ]
     },
     "execution_count": 51,
     "metadata": {},
     "output_type": "execute_result"
    }
   ],
   "source": [
    "torch.tensor(())"
   ]
  },
  {
   "cell_type": "code",
   "execution_count": 36,
   "id": "bb5ff94c-a564-4433-ba90-ec83da4d11cd",
   "metadata": {},
   "outputs": [],
   "source": [
    "{'a': 1}.update({'b': 5})"
   ]
  },
  {
   "cell_type": "code",
   "execution_count": 10,
   "id": "16dc1cc7-7d3e-46e8-9ee9-59ee9fb153b8",
   "metadata": {},
   "outputs": [
    {
     "data": {
      "text/plain": [
       "array([6377791278, 7037998855, 7556092991, 8217385358, 8695645867,\n",
       "       1645853955, 1283211782, 8616980401, 3169416485, 1613878827])"
      ]
     },
     "execution_count": 10,
     "metadata": {},
     "output_type": "execute_result"
    }
   ],
   "source": [
    "np.random.choice(int(1e10), 10)"
   ]
  },
  {
   "cell_type": "code",
   "execution_count": null,
   "id": "d54e5934-a42d-4654-a926-3b8d38c702f4",
   "metadata": {},
   "outputs": [],
   "source": [
    "dict().update"
   ]
  }
 ],
 "metadata": {
  "kernelspec": {
   "display_name": "Python 3 (ipykernel)",
   "language": "python",
   "name": "python3"
  },
  "language_info": {
   "codemirror_mode": {
    "name": "ipython",
    "version": 3
   },
   "file_extension": ".py",
   "mimetype": "text/x-python",
   "name": "python",
   "nbconvert_exporter": "python",
   "pygments_lexer": "ipython3",
   "version": "3.9.7"
  }
 },
 "nbformat": 4,
 "nbformat_minor": 5
}
